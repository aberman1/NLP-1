{
  "nbformat": 4,
  "nbformat_minor": 0,
  "metadata": {
    "colab": {
      "name": "NLTK.ipynb",
      "provenance": [],
      "authorship_tag": "ABX9TyOr7sefw4Dq3bTnmq+8rqDB",
      "include_colab_link": true
    },
    "kernelspec": {
      "name": "python3",
      "display_name": "Python 3"
    }
  },
  "cells": [
    {
      "cell_type": "markdown",
      "metadata": {
        "id": "view-in-github",
        "colab_type": "text"
      },
      "source": [
        "<a href=\"https://colab.research.google.com/github/aberman1/NLP-1/blob/main/NLTK.ipynb\" target=\"_parent\"><img src=\"https://colab.research.google.com/assets/colab-badge.svg\" alt=\"Open In Colab\"/></a>"
      ]
    },
    {
      "cell_type": "code",
      "metadata": {
        "colab": {
          "base_uri": "https://localhost:8080/"
        },
        "id": "x90Bvrgo8E4D",
        "outputId": "66b9c768-90e6-45d6-e214-57e3ba633c0d"
      },
      "source": [
        "from google.colab import drive\r\n",
        "drive.mount('/content/gdrive/', force_remount=True)"
      ],
      "execution_count": null,
      "outputs": [
        {
          "output_type": "stream",
          "text": [
            "Mounted at /content/gdrive/\n"
          ],
          "name": "stdout"
        }
      ]
    },
    {
      "cell_type": "code",
      "metadata": {
        "id": "ofpVwFeR8PXF"
      },
      "source": [
        "! cp \"/content/gdrive/My Drive/winston.txt\" ."
      ],
      "execution_count": null,
      "outputs": []
    },
    {
      "cell_type": "code",
      "metadata": {
        "colab": {
          "base_uri": "https://localhost:8080/"
        },
        "id": "WAaR1O1h8Rs0",
        "outputId": "cd400494-fa6c-4007-d9c0-577bc920bcb7"
      },
      "source": [
        "! ls"
      ],
      "execution_count": null,
      "outputs": [
        {
          "output_type": "stream",
          "text": [
            "gdrive\tsample_data  winston.txt\n"
          ],
          "name": "stdout"
        }
      ]
    },
    {
      "cell_type": "markdown",
      "metadata": {
        "id": "yz_QKNa9VNZ1"
      },
      "source": [
        "**Sentdex  NLTK1**"
      ]
    },
    {
      "cell_type": "code",
      "metadata": {
        "id": "LJJOEBm78T98"
      },
      "source": [
        "import nltk"
      ],
      "execution_count": null,
      "outputs": []
    },
    {
      "cell_type": "code",
      "metadata": {
        "id": "SRVWgjNj8cx0"
      },
      "source": [
        ""
      ],
      "execution_count": null,
      "outputs": []
    },
    {
      "cell_type": "code",
      "metadata": {
        "id": "_s7FMhQcDrFo"
      },
      "source": [
        "f = open('winston.txt', 'r',encoding='cp1252')\r\n",
        "# To get everything in the file, just use read()\r\n",
        "df=f.read()\r\n"
      ],
      "execution_count": null,
      "outputs": []
    },
    {
      "cell_type": "code",
      "metadata": {
        "id": "X8Gof8U1NAvy",
        "colab": {
          "base_uri": "https://localhost:8080/"
        },
        "outputId": "24373359-d2e3-4546-b364-783dd4410912"
      },
      "source": [
        "print(df)"
      ],
      "execution_count": null,
      "outputs": [
        {
          "output_type": "stream",
          "text": [
            "Sir Winston Leonard Spencer Churchill,[1] KG, OM, CH, TD, DL, FRS, RA (30 November 1874 – 24 January 1965) was a British statesman, army officer, and writer. He was Prime Minister of the United Kingdom from 1940 to 1945, during the Second World War, and again from 1951 to 1955. Apart from two years between 1922 and 1924, Churchill was a Member of Parliament (MP) from 1900 to 1964 and represented a total of five constituencies. Ideologically an economic liberal and imperialist, he was for most of his career a member of the Conservative Party, as leader from 1940 to 1955. He was a member of the Liberal Party from 1904 to 1924.\n",
            "\n",
            "Of mixed English and American parentage, Churchill was born in Oxfordshire to a wealthy, aristocratic family. He joined the British Army in 1895 and saw action in British India, the Anglo-Sudan War, and the Second Boer War, gaining fame as a war correspondent and writing books about his campaigns. Elected a Conservative MP in 1900, he defected to the Liberals in 1904. In H. H. Asquith's Liberal government, Churchill served as President of the Board of Trade and Home Secretary, championing prison reform and workers' social security. As First Lord of the Admiralty during the First World War, he oversaw the Gallipoli Campaign but, after it proved a disaster, he was demoted to Chancellor of the Duchy of Lancaster. He resigned in November 1915 and joined the Royal Scots Fusiliers on the Western Front for six months. In 1917, he returned to government under David Lloyd George and served successively as Minister of Munitions, Secretary of State for War, Secretary of State for Air, and Secretary of State for the Colonies, overseeing the Anglo-Irish Treaty and British foreign policy in the Middle East. After two years out of Parliament, he served as Chancellor of the Exchequer in Stanley Baldwin's Conservative government, returning the pound sterling in 1925 to the gold standard at its pre-war parity, a move widely seen as creating deflationary pressure and depressing the UK economy.\n",
            "\n",
            "Out of office during the 1930s, Churchill took the lead in calling for British rearmament to counter the growing threat of militarism in Nazi Germany. At the outbreak of the Second World War he was re-appointed First Lord of the Admiralty. In May 1940, he became Prime Minister, replacing Neville Chamberlain. Churchill oversaw British involvement in the Allied war effort against the Axis powers, resulting in victory in 1945. After the Conservatives' defeat in the 1945 general election, he became Leader of the Opposition. Amid the developing Cold War with the Soviet Union, he publicly warned of an \"iron curtain\" of Soviet influence in Europe and promoted European unity. Re-elected Prime Minister in 1951, his second term was preoccupied with foreign affairs, especially Anglo-American relations and, despite ongoing decolonisation, preservation of the British Empire. Domestically, his government emphasised house-building and developed a nuclear weapon. In declining health, Churchill resigned as Prime Minister in 1955, although he remained an MP until 1964. Upon his death in 1965, he was given a state funeral.\n",
            "\n",
            "Widely considered one of the 20th century's most significant figures, Churchill remains popular in the UK and Western world, where he is seen as a victorious wartime leader who played an important role in defending Europe's liberal democracy against the spread of fascism. Also praised as a social reformer and writer, among his many awards was the Nobel Prize in Literature. Conversely, he has been criticised for some wartime events, notably the 1945 bombing of Dresden, and for his imperialist views and comments on race.\n"
          ],
          "name": "stdout"
        }
      ]
    },
    {
      "cell_type": "code",
      "metadata": {
        "id": "W_RKI2jHNnHD"
      },
      "source": [
        "from nltk.tokenize import sent_tokenize, word_tokenize\r\n",
        "example_text=\"  I love you and you like me, hi baby what are you, doing mark Mr. smith\""
      ],
      "execution_count": null,
      "outputs": []
    },
    {
      "cell_type": "code",
      "metadata": {
        "id": "nKgK3Wj5PyAQ",
        "colab": {
          "base_uri": "https://localhost:8080/"
        },
        "outputId": "40b2c097-2be7-4d3b-d395-35360316d20b"
      },
      "source": [
        "nltk.download('punkt')\r\n",
        "print(sent_tokenize(example_text))"
      ],
      "execution_count": null,
      "outputs": [
        {
          "output_type": "stream",
          "text": [
            "[nltk_data] Downloading package punkt to /root/nltk_data...\n",
            "[nltk_data]   Package punkt is already up-to-date!\n",
            "['  I love you and you like me, hi baby what are you, doing mark Mr. smith']\n"
          ],
          "name": "stdout"
        }
      ]
    },
    {
      "cell_type": "code",
      "metadata": {
        "id": "qYyAszTPP5KY",
        "colab": {
          "base_uri": "https://localhost:8080/"
        },
        "outputId": "0fa8417c-c56c-4396-ee61-da6fc48c1bf6"
      },
      "source": [
        " print(sent_tokenize(df))"
      ],
      "execution_count": null,
      "outputs": [
        {
          "output_type": "stream",
          "text": [
            "['Sir Winston Leonard Spencer Churchill,[1] KG, OM, CH, TD, DL, FRS, RA (30 November 1874 – 24 January 1965) was a British statesman, army officer, and writer.', 'He was Prime Minister of the United Kingdom from 1940 to 1945, during the Second World War, and again from 1951 to 1955.', 'Apart from two years between 1922 and 1924, Churchill was a Member of Parliament (MP) from 1900 to 1964 and represented a total of five constituencies.', 'Ideologically an economic liberal and imperialist, he was for most of his career a member of the Conservative Party, as leader from 1940 to 1955.', 'He was a member of the Liberal Party from 1904 to 1924.', 'Of mixed English and American parentage, Churchill was born in Oxfordshire to a wealthy, aristocratic family.', 'He joined the British Army in 1895 and saw action in British India, the Anglo-Sudan War, and the Second Boer War, gaining fame as a war correspondent and writing books about his campaigns.', 'Elected a Conservative MP in 1900, he defected to the Liberals in 1904.', \"In H. H. Asquith's Liberal government, Churchill served as President of the Board of Trade and Home Secretary, championing prison reform and workers' social security.\", 'As First Lord of the Admiralty during the First World War, he oversaw the Gallipoli Campaign but, after it proved a disaster, he was demoted to Chancellor of the Duchy of Lancaster.', 'He resigned in November 1915 and joined the Royal Scots Fusiliers on the Western Front for six months.', 'In 1917, he returned to government under David Lloyd George and served successively as Minister of Munitions, Secretary of State for War, Secretary of State for Air, and Secretary of State for the Colonies, overseeing the Anglo-Irish Treaty and British foreign policy in the Middle East.', \"After two years out of Parliament, he served as Chancellor of the Exchequer in Stanley Baldwin's Conservative government, returning the pound sterling in 1925 to the gold standard at its pre-war parity, a move widely seen as creating deflationary pressure and depressing the UK economy.\", 'Out of office during the 1930s, Churchill took the lead in calling for British rearmament to counter the growing threat of militarism in Nazi Germany.', 'At the outbreak of the Second World War he was re-appointed First Lord of the Admiralty.', 'In May 1940, he became Prime Minister, replacing Neville Chamberlain.', 'Churchill oversaw British involvement in the Allied war effort against the Axis powers, resulting in victory in 1945.', \"After the Conservatives' defeat in the 1945 general election, he became Leader of the Opposition.\", 'Amid the developing Cold War with the Soviet Union, he publicly warned of an \"iron curtain\" of Soviet influence in Europe and promoted European unity.', 'Re-elected Prime Minister in 1951, his second term was preoccupied with foreign affairs, especially Anglo-American relations and, despite ongoing decolonisation, preservation of the British Empire.', 'Domestically, his government emphasised house-building and developed a nuclear weapon.', 'In declining health, Churchill resigned as Prime Minister in 1955, although he remained an MP until 1964.', 'Upon his death in 1965, he was given a state funeral.', \"Widely considered one of the 20th century's most significant figures, Churchill remains popular in the UK and Western world, where he is seen as a victorious wartime leader who played an important role in defending Europe's liberal democracy against the spread of fascism.\", 'Also praised as a social reformer and writer, among his many awards was the Nobel Prize in Literature.', 'Conversely, he has been criticised for some wartime events, notably the 1945 bombing of Dresden, and for his imperialist views and comments on race.']\n"
          ],
          "name": "stdout"
        }
      ]
    },
    {
      "cell_type": "code",
      "metadata": {
        "id": "Z-NndaYAQiEO",
        "colab": {
          "base_uri": "https://localhost:8080/"
        },
        "outputId": "250df87b-ecce-42d5-8192-f5ac915b87d3"
      },
      "source": [
        "print(word_tokenize(example_text))"
      ],
      "execution_count": null,
      "outputs": [
        {
          "output_type": "stream",
          "text": [
            "['I', 'love', 'you', 'and', 'you', 'like', 'me', ',', 'hi', 'baby', 'what', 'are', 'you', ',', 'doing', 'mark', 'Mr.', 'smith']\n"
          ],
          "name": "stdout"
        }
      ]
    },
    {
      "cell_type": "code",
      "metadata": {
        "id": "DnBK0c9FQpyh",
        "colab": {
          "base_uri": "https://localhost:8080/"
        },
        "outputId": "c4655242-86d4-4366-8519-638aeaf3996b"
      },
      "source": [
        "for i in word_tokenize(example_text):\r\n",
        "  print(i)"
      ],
      "execution_count": null,
      "outputs": [
        {
          "output_type": "stream",
          "text": [
            "I\n",
            "love\n",
            "you\n",
            "and\n",
            "you\n",
            "like\n",
            "me\n",
            ",\n",
            "hi\n",
            "baby\n",
            "what\n",
            "are\n",
            "you\n",
            ",\n",
            "doing\n",
            "mark\n",
            "Mr.\n",
            "smith\n"
          ],
          "name": "stdout"
        }
      ]
    },
    {
      "cell_type": "markdown",
      "metadata": {
        "id": "X9q4yLW7VWSu"
      },
      "source": [
        "**Sentdex  NLTK2-Stop Words-no meaning**"
      ]
    },
    {
      "cell_type": "code",
      "metadata": {
        "id": "Na6PZzudVYPl",
        "colab": {
          "base_uri": "https://localhost:8080/"
        },
        "outputId": "060da09d-cbe0-40b3-abfd-9681c2d0c845"
      },
      "source": [
        "nltk.download('stopwords')\r\n",
        "from nltk.corpus import stopwords\r\n",
        "example_sentence='This is an example shoing off stop word blalal'\r\n",
        "stop_words=set(stopwords.words(\"english\"))\r\n",
        "print(len(stop_words))"
      ],
      "execution_count": null,
      "outputs": [
        {
          "output_type": "stream",
          "text": [
            "[nltk_data] Downloading package stopwords to /root/nltk_data...\n",
            "[nltk_data]   Package stopwords is already up-to-date!\n",
            "179\n"
          ],
          "name": "stdout"
        }
      ]
    },
    {
      "cell_type": "code",
      "metadata": {
        "id": "GbU2W4pA1UVv",
        "colab": {
          "base_uri": "https://localhost:8080/"
        },
        "outputId": "99b85eea-b74e-4726-a3de-0d0f7ee91e01"
      },
      "source": [
        "words=word_tokenize(example_sentence)\r\n",
        "filter_sentenc=[]\r\n",
        "for i  in words:\r\n",
        " if  i not in stop_words:\r\n",
        "   filter_sentenc.append(i)\r\n",
        "\r\n",
        "print (filter_sentenc,'\\n',example_sentence)"
      ],
      "execution_count": null,
      "outputs": [
        {
          "output_type": "stream",
          "text": [
            "['This', 'example', 'shoing', 'stop', 'word', 'blalal'] \n",
            " This is an example shoing off stop word blalal\n"
          ],
          "name": "stdout"
        }
      ]
    },
    {
      "cell_type": "code",
      "metadata": {
        "id": "kulVrTIq2g_n"
      },
      "source": [
        "filter_sentenc1=[w for w in words if not w in stop_words]"
      ],
      "execution_count": null,
      "outputs": []
    },
    {
      "cell_type": "code",
      "metadata": {
        "id": "2ztBJsc94njt",
        "colab": {
          "base_uri": "https://localhost:8080/"
        },
        "outputId": "48e818db-1ab5-4731-c235-9d85d1874c17"
      },
      "source": [
        "print (filter_sentenc1,'\\n',example_sentence)"
      ],
      "execution_count": null,
      "outputs": [
        {
          "output_type": "stream",
          "text": [
            "['This', 'example', 'shoing', 'stop', 'word', 'blalal'] \n",
            " This is an example shoing off stop word blalal\n"
          ],
          "name": "stdout"
        }
      ]
    },
    {
      "cell_type": "markdown",
      "metadata": {
        "id": "kyf2dgIs5Ll_"
      },
      "source": [
        "**Sentdex  NLTK3--Stemming**"
      ]
    },
    {
      "cell_type": "code",
      "metadata": {
        "id": "guk9VlgQ5EmM"
      },
      "source": [
        "from nltk.stem import PorterStemmer"
      ],
      "execution_count": null,
      "outputs": []
    },
    {
      "cell_type": "code",
      "metadata": {
        "id": "B8d7zmbd6QPw"
      },
      "source": [
        "ps=PorterStemmer()"
      ],
      "execution_count": null,
      "outputs": []
    },
    {
      "cell_type": "code",
      "metadata": {
        "id": "GhehrOMY63BU"
      },
      "source": [
        "example_words=[\"python\",\"pythoner\",\"pythoning\"]"
      ],
      "execution_count": null,
      "outputs": []
    },
    {
      "cell_type": "code",
      "metadata": {
        "id": "lBfqNjGI73oc",
        "colab": {
          "base_uri": "https://localhost:8080/"
        },
        "outputId": "f6c7c58c-006f-4940-aa82-77e357b41b02"
      },
      "source": [
        "for w in example_words:\r\n",
        "  print(ps.stem(w))"
      ],
      "execution_count": null,
      "outputs": [
        {
          "output_type": "stream",
          "text": [
            "python\n",
            "python\n",
            "python\n"
          ],
          "name": "stdout"
        }
      ]
    },
    {
      "cell_type": "code",
      "metadata": {
        "id": "mrjxgBJ68POs",
        "colab": {
          "base_uri": "https://localhost:8080/"
        },
        "outputId": "44e74016-fa2e-44b7-8c05-0d525b26da45"
      },
      "source": [
        "new_text=\"Is is very importent to be pythonly while you are pythoning with python\"\r\n",
        "words=word_tokenize(new_text)\r\n",
        "words"
      ],
      "execution_count": null,
      "outputs": [
        {
          "output_type": "execute_result",
          "data": {
            "text/plain": [
              "['Is',\n",
              " 'is',\n",
              " 'very',\n",
              " 'importent',\n",
              " 'to',\n",
              " 'be',\n",
              " 'pythonly',\n",
              " 'while',\n",
              " 'you',\n",
              " 'are',\n",
              " 'pythoning',\n",
              " 'with',\n",
              " 'python']"
            ]
          },
          "metadata": {
            "tags": []
          },
          "execution_count": 48
        }
      ]
    },
    {
      "cell_type": "code",
      "metadata": {
        "id": "03xqY1R_8wXO",
        "colab": {
          "base_uri": "https://localhost:8080/"
        },
        "outputId": "2781cee8-0f4e-4625-fbf4-90f1d273d91e"
      },
      "source": [
        "for w in words:\r\n",
        "  print(ps.stem(w))"
      ],
      "execution_count": null,
      "outputs": [
        {
          "output_type": "stream",
          "text": [
            "Is\n",
            "is\n",
            "veri\n",
            "import\n",
            "to\n",
            "be\n",
            "pythonli\n",
            "while\n",
            "you\n",
            "are\n",
            "python\n",
            "with\n",
            "python\n"
          ],
          "name": "stdout"
        }
      ]
    },
    {
      "cell_type": "markdown",
      "metadata": {
        "id": "snOLK7Pz91rR"
      },
      "source": [
        "**Sentdex  NLTK4-Part of speech tagging**"
      ]
    },
    {
      "cell_type": "code",
      "metadata": {
        "id": "tpVZarbb97Ld",
        "colab": {
          "base_uri": "https://localhost:8080/"
        },
        "outputId": "02e47658-cf3a-4527-ae56-99744e10c093"
      },
      "source": [
        "nltk.download('state_union')\r\n",
        "from nltk.corpus import state_union\r\n",
        "from nltk.tokenize import PunktSentenceTokenizer"
      ],
      "execution_count": null,
      "outputs": [
        {
          "output_type": "stream",
          "text": [
            "[nltk_data] Downloading package state_union to /root/nltk_data...\n",
            "[nltk_data]   Package state_union is already up-to-date!\n"
          ],
          "name": "stdout"
        }
      ]
    },
    {
      "cell_type": "code",
      "metadata": {
        "id": "k1Z1rZ3--UtG",
        "colab": {
          "base_uri": "https://localhost:8080/",
          "height": 197
        },
        "outputId": "9180130a-af57-4b91-93e5-0e3c6475b126"
      },
      "source": [
        "sample_text=state_union.raw(\"2006-GWBush.txt\")\r\n",
        "train_text=state_union.raw(\"2005-GWBush.txt\")\r\n",
        "customer_sent_tokenizer=PunktSentenceTokenizer\r\n",
        "tokenized = customer_sent_tokenizer.tokenize(sample_text)\r\n"
      ],
      "execution_count": null,
      "outputs": [
        {
          "output_type": "error",
          "ename": "TypeError",
          "evalue": "ignored",
          "traceback": [
            "\u001b[0;31m---------------------------------------------------------------------------\u001b[0m",
            "\u001b[0;31mTypeError\u001b[0m                                 Traceback (most recent call last)",
            "\u001b[0;32m<ipython-input-51-7bc11ffb87b9>\u001b[0m in \u001b[0;36m<module>\u001b[0;34m()\u001b[0m\n\u001b[1;32m      2\u001b[0m \u001b[0mtrain_text\u001b[0m\u001b[0;34m=\u001b[0m\u001b[0mstate_union\u001b[0m\u001b[0;34m.\u001b[0m\u001b[0mraw\u001b[0m\u001b[0;34m(\u001b[0m\u001b[0;34m\"2005-GWBush.txt\"\u001b[0m\u001b[0;34m)\u001b[0m\u001b[0;34m\u001b[0m\u001b[0;34m\u001b[0m\u001b[0m\n\u001b[1;32m      3\u001b[0m \u001b[0mcustomer_sent_tokenizer\u001b[0m\u001b[0;34m=\u001b[0m\u001b[0mPunktSentenceTokenizer\u001b[0m\u001b[0;34m\u001b[0m\u001b[0;34m\u001b[0m\u001b[0m\n\u001b[0;32m----> 4\u001b[0;31m \u001b[0mtokenized\u001b[0m \u001b[0;34m=\u001b[0m \u001b[0mcustomer_sent_tokenizer\u001b[0m\u001b[0;34m.\u001b[0m\u001b[0mtokenize\u001b[0m\u001b[0;34m(\u001b[0m\u001b[0msample_text\u001b[0m\u001b[0;34m)\u001b[0m\u001b[0;34m\u001b[0m\u001b[0;34m\u001b[0m\u001b[0m\n\u001b[0m",
            "\u001b[0;31mTypeError\u001b[0m: tokenize() missing 1 required positional argument: 'text'"
          ]
        }
      ]
    },
    {
      "cell_type": "code",
      "metadata": {
        "id": "NmdG0FhF_8xJ"
      },
      "source": [
        "nltk.download('averaged_perceptron_tagger')\r\n",
        "def meaning():\r\n",
        "  try:\r\n",
        "    for i in tokenized:\r\n",
        "      words=nltk.word_tokenize(i)\r\n",
        "      tagged=nltk.pos_tag(words)\r\n",
        "\r\n",
        "      print(tagged)\r\n",
        "\r\n",
        "\r\n",
        "\r\n",
        "\r\n",
        "  except Exception as e:\r\n",
        "      print(str(e))\r\n",
        "\r\n",
        "meaning()"
      ],
      "execution_count": null,
      "outputs": []
    },
    {
      "cell_type": "code",
      "metadata": {
        "id": "AUK5YcGLEUJX"
      },
      "source": [
        "nltk.download('tagsets')\r\n",
        "nltk.help.upenn_tagset()"
      ],
      "execution_count": null,
      "outputs": []
    },
    {
      "cell_type": "markdown",
      "metadata": {
        "id": "nZpMfvK-E_Zn"
      },
      "source": [
        "**Sentdex  NLTK5-Chunking**"
      ]
    },
    {
      "cell_type": "code",
      "metadata": {
        "id": "PSRXy_Z9EU2L"
      },
      "source": [
        "import matplotlib\r\n",
        "def Chunk():\r\n",
        "  try:\r\n",
        "    for i in tokenized:\r\n",
        "      words=nltk.word_tokenize(i)\r\n",
        "      tagged=nltk.pos_tag(words)\r\n",
        "\r\n",
        "      ChunkGram = r\"\"\"Chunk:{<RB.?>*<VB.?>*<NNP>+<NN>?}   \"\"\"\r\n",
        "      chunkParser=nltk.RegexpParser(ChunkGram)\r\n",
        "      chunked=chunkParser.parse(tagged)\r\n",
        "      print(chunked)\r\n",
        "  except Exception as e:\r\n",
        "    print(str(e))\r\n",
        "\r\n",
        "Chunk()"
      ],
      "execution_count": null,
      "outputs": []
    },
    {
      "cell_type": "markdown",
      "metadata": {
        "id": "JKAOirOPTHV_"
      },
      "source": [
        "**Sentdex  NLTK6-Chinking**"
      ]
    },
    {
      "cell_type": "code",
      "metadata": {
        "id": "XYZFXdSdTLCP"
      },
      "source": [
        "\r\n",
        "import matplotlib\r\n",
        "import matplotlib\r\n",
        "matplotlib.use('Agg')\r\n",
        "%matplotlib inline\r\n",
        "import nltk\r\n",
        "from nltk.corpus import state_union\r\n",
        "from nltk.tokenize import PunktSentenceTokenizer\r\n",
        "\r\n",
        "train_text = state_union.raw(\"2005-GWBush.txt\")\r\n",
        "sample_text = state_union.raw(\"2006-GWBush.txt\")\r\n",
        "\r\n",
        "custom_sent_tokenizer = PunktSentenceTokenizer(train_text)\r\n",
        "\r\n",
        "tokenized = custom_sent_tokenizer.tokenize(sample_text)\r\n",
        "\r\n",
        "def process_content():\r\n",
        "    try:\r\n",
        "        for i in tokenized[5:]:\r\n",
        "            words = nltk.word_tokenize(i)\r\n",
        "            tagged = nltk.pos_tag(words)\r\n",
        "\r\n",
        "            chunkGram = r\"\"\"Chunk: {<.*>+}\r\n",
        "                                    }<VB.?|IN|DT|TO>+{\"\"\"\r\n",
        "\r\n",
        "            chunkParser = nltk.RegexpParser(chunkGram)\r\n",
        "            chunked = chunkParser.parse(tagged)\r\n",
        "\r\n",
        "            chunked.draw()\r\n",
        "\r\n",
        "    except Exception as e:\r\n",
        "        print(str(e))\r\n",
        "\r\n",
        "process_content()"
      ],
      "execution_count": null,
      "outputs": []
    },
    {
      "cell_type": "markdown",
      "metadata": {
        "id": "xHvDeSP5_Vdw"
      },
      "source": [
        "**corpus**\r\n"
      ]
    },
    {
      "cell_type": "code",
      "metadata": {
        "id": "RqNdj7w8TLtw"
      },
      "source": [
        "print(nltk.__file__)"
      ],
      "execution_count": null,
      "outputs": []
    },
    {
      "cell_type": "code",
      "metadata": {
        "id": "tCq58irp7lVj"
      },
      "source": [
        "from nltk.corpus import gutenberg"
      ],
      "execution_count": null,
      "outputs": []
    },
    {
      "cell_type": "code",
      "metadata": {
        "id": "2miHaXuC-lEU"
      },
      "source": [
        "nltk.download('gutenberg')\r\n",
        "sample=gutenberg.raw(\"bible-kjv.txt\")"
      ],
      "execution_count": null,
      "outputs": []
    },
    {
      "cell_type": "code",
      "metadata": {
        "id": "5Fi3TC2l-rsI"
      },
      "source": [
        "tok=sent_tokenize(sample)\r\n",
        "print(tok[5:15])\r\n"
      ],
      "execution_count": null,
      "outputs": []
    },
    {
      "cell_type": "code",
      "metadata": {
        "id": "tzOmV29f_C84"
      },
      "source": [
        ""
      ],
      "execution_count": null,
      "outputs": []
    },
    {
      "cell_type": "markdown",
      "metadata": {
        "id": "FVMMOYEp_0Be"
      },
      "source": [
        "**10-WordNet**"
      ]
    },
    {
      "cell_type": "code",
      "metadata": {
        "id": "yz0J2IMC_5t_"
      },
      "source": [
        "nltk.download('wordnet')"
      ],
      "execution_count": null,
      "outputs": []
    },
    {
      "cell_type": "code",
      "metadata": {
        "id": "9D13BwMuAFIY"
      },
      "source": [
        "from nltk.corpus import wordnet"
      ],
      "execution_count": null,
      "outputs": []
    },
    {
      "cell_type": "code",
      "metadata": {
        "id": "dvStHhLCAUnn"
      },
      "source": [
        "syns=wordnet.synsets(\"program\")\r\n",
        "print(syns[1].lemmas()[0])\r\n",
        "# print(syns[1].name())\r\n",
        "# print(syns[1].examples())\r\n",
        "# print(syns[0].lemmas()[0].name())"
      ],
      "execution_count": null,
      "outputs": []
    },
    {
      "cell_type": "code",
      "metadata": {
        "id": "GErledQjAsgY"
      },
      "source": [
        "synonyms = []\r\n",
        "antonyms = []\r\n",
        "\r\n",
        "for syn in wordnet.synsets(\"good\"):\r\n",
        "    for l in syn.lemmas():\r\n",
        "        # print(\"l:\",l)\r\n",
        "        synonyms.append(l.name())\r\n",
        "        if l.antonyms():\r\n",
        "            antonyms.append(l.antonyms()[0].name())\r\n",
        "\r\n",
        "\r\n",
        "print(set(synonyms))\r\n",
        "print(set(antonyms))"
      ],
      "execution_count": null,
      "outputs": []
    },
    {
      "cell_type": "code",
      "metadata": {
        "id": "dovz94d7JHck"
      },
      "source": [
        "assaf=[1,2,3,4,5,6,3,4,4,4,4,4,4]\r\n",
        "print(set(assaf))"
      ],
      "execution_count": null,
      "outputs": []
    },
    {
      "cell_type": "code",
      "metadata": {
        "id": "NksbdbqRJLn7"
      },
      "source": [
        "w1 = wordnet.synset('ship.n.01')\r\n",
        "w2 = wordnet.synset('boat.n.01')\r\n",
        "print(w1.wup_similarity(w2))"
      ],
      "execution_count": null,
      "outputs": []
    },
    {
      "cell_type": "markdown",
      "metadata": {
        "id": "ftqfmrIQM5lj"
      },
      "source": [
        "**11 naive base**"
      ]
    },
    {
      "cell_type": "code",
      "metadata": {
        "colab": {
          "base_uri": "https://localhost:8080/"
        },
        "id": "5i1-WWj9M9ns",
        "outputId": "6827fe4c-00c7-4378-e9dd-3fabc215f4d2"
      },
      "source": [
        "import nltk\r\n",
        "nltk.download('movie_reviews')"
      ],
      "execution_count": null,
      "outputs": [
        {
          "output_type": "stream",
          "text": [
            "[nltk_data] Downloading package movie_reviews to /root/nltk_data...\n",
            "[nltk_data]   Unzipping corpora/movie_reviews.zip.\n"
          ],
          "name": "stdout"
        },
        {
          "output_type": "execute_result",
          "data": {
            "text/plain": [
              "True"
            ]
          },
          "metadata": {
            "tags": []
          },
          "execution_count": 12
        }
      ]
    },
    {
      "cell_type": "code",
      "metadata": {
        "id": "kkwt-JqqO7od"
      },
      "source": [
        "from nltk.corpus import movie_reviews"
      ],
      "execution_count": null,
      "outputs": []
    },
    {
      "cell_type": "code",
      "metadata": {
        "colab": {
          "base_uri": "https://localhost:8080/"
        },
        "id": "6DgbUqhvPHYs",
        "outputId": "79f07e3e-d0c2-46ab-ab4f-77d60a8f38b1"
      },
      "source": [
        "print(movie_reviews.categories())"
      ],
      "execution_count": null,
      "outputs": [
        {
          "output_type": "stream",
          "text": [
            "['neg', 'pos']\n"
          ],
          "name": "stdout"
        }
      ]
    },
    {
      "cell_type": "code",
      "metadata": {
        "colab": {
          "base_uri": "https://localhost:8080/"
        },
        "id": "OkA_Ij_7PQ68",
        "outputId": "88b0f36a-cdb6-4d36-c35d-ca2f5089d703"
      },
      "source": [
        " nltk.download('punkt')\r\n",
        "print(movie_reviews.sents())"
      ],
      "execution_count": null,
      "outputs": [
        {
          "output_type": "stream",
          "text": [
            "[nltk_data] Downloading package punkt to /root/nltk_data...\n",
            "[nltk_data]   Unzipping tokenizers/punkt.zip.\n",
            "[['plot', ':', 'two', 'teen', 'couples', 'go', 'to', 'a', 'church', 'party', ',', 'drink', 'and', 'then', 'drive', '.'], ['they', 'get', 'into', 'an', 'accident', '.'], ...]\n"
          ],
          "name": "stdout"
        }
      ]
    },
    {
      "cell_type": "code",
      "metadata": {
        "id": "qmVI42KbPcZl"
      },
      "source": [
        "import random\r\n",
        "documents = [(list(movie_reviews.words(fileid)), category)\r\n",
        "             for category in movie_reviews.categories()\r\n",
        "             for fileid in movie_reviews.fileids(category)]\r\n",
        "\r\n",
        "# random.shuffle(documents)"
      ],
      "execution_count": null,
      "outputs": []
    },
    {
      "cell_type": "code",
      "metadata": {
        "id": "FWT9ZKIIQTrt",
        "colab": {
          "base_uri": "https://localhost:8080/"
        },
        "outputId": "e68ec560-fe41-4102-dd1d-a98374da4d5c"
      },
      "source": [
        "print(documents[52])"
      ],
      "execution_count": null,
      "outputs": [
        {
          "output_type": "stream",
          "text": [
            "(['sometimes', 'i', 'find', '19th', 'century', 'british', 'costume', 'dramas', 'a', 'little', 'hard', 'to', 'relate', 'to', '.', 'it', \"'\", 's', 'not', 'the', 'time', 'or', 'the', 'distance', ',', 'it', \"'\", 's', 'the', 'rules', 'and', 'conventions', 'of', 'a', 'social', 'class', 'that', 'deserves', 'resentment', 'rather', 'than', 'sympathy', '.', 'yet', 'somehow', ',', 'the', 'movies', 'are', 'all', 'well', 'made', 'and', 'i', 'always', 'get', 'caught', 'up', 'in', 'the', 'story', '.', 'the', 'wings', 'of', 'the', 'dove', 'fits', 'the', 'pattern', '.', 'kate', '(', 'helena', 'bonham', 'carter', ')', 'and', 'merton', '(', 'linus', 'roache', ')', 'are', 'in', 'love', '.', 'merton', ',', 'a', 'newspaper', 'writer', ',', 'would', 'like', 'to', 'marry', 'kate', '.', 'but', 'kate', \"'\", 's', '\"', 'job', '\"', ',', 'if', 'you', 'will', ',', 'is', 'to', 'be', 'a', 'member', 'of', 'the', 'british', 'upper', 'class', '.', 'her', 'father', 'lost', 'all', 'of', 'her', 'family', \"'\", 's', 'money', ',', 'but', 'a', 'wealthy', 'aunt', 'agreed', 'to', 'take', 'care', 'of', 'her', 'until', 'she', 'married', 'a', 'nice', 'rich', 'man', '.', 'naturally', ',', 'a', 'newspaper', 'writer', \"'\", 's', 'wages', 'don', \"'\", 't', 'count', 'as', '\"', 'rich', '.', '\"', 'kate', 'leads', 'him', 'on', ',', 'but', 'she', 'always', 'ends', 'up', 'giving', 'him', 'the', 'cold', 'shoulder', ',', 'ultimately', 'because', 'he', \"'\", 's', 'not', 'marriageable', '.', 'kate', \"'\", 's', 'american', 'friend', 'millie', '(', 'alison', 'elliot', ')', 'stops', 'in', 'for', 'a', 'visit', 'on', 'her', 'way', 'to', 'venice', '.', 'at', 'a', 'party', ',', 'millie', 'catches', 'a', 'glimpse', 'of', 'merton', 'and', 'likes', 'what', 'she', 'sees', '.', 'kate', 'realizes', 'that', 'if', 'merton', 'were', 'introduced', 'to', 'millie', ',', 'he', 'might', 'forget', 'about', 'her', '.', 'it', 'appears', 'that', 'she', 'is', 'trying', 'to', 'spare', 'him', 'from', 'the', 'heartbreak', 'of', 'their', 'inevitable', 'breakup', '.', 'merton', 'sees', 'what', 'kate', 'is', 'doing', 'and', 'resents', 'her', 'for', 'it', '.', 'he', 'is', 'still', 'in', 'love', 'with', 'kate', ',', 'and', 'will', 'accept', 'no', 'substitute', '.', 'the', 'three', 'of', 'them', ',', 'along', 'with', 'a', 'fourth', 'friend', '(', 'elizabeth', 'mcgovern', ')', 'end', 'up', 'on', 'holiday', 'in', 'venice', 'together', ',', 'where', 'their', 'interactions', 'are', 'quite', 'complicated', '.', 'let', \"'\", 's', 'sum', 'up', ':', 'millie', 'has', 'fallen', 'for', 'merton', '.', 'merton', 'has', 'no', 'feelings', 'for', 'millie', 'because', 'he', 'is', 'still', 'in', 'love', 'with', 'kate', '.', 'kate', 'loves', 'him', 'but', 'can', \"'\", 't', 'marry', 'him', ',', 'so', 'on', 'the', 'one', 'hand', 'she', \"'\", 's', 'trying', 'to', 'match', 'him', 'up', 'with', 'someone', 'who', 'will', 'make', 'him', 'happy', ',', 'but', 'on', 'the', 'other', 'hand', 'she', \"'\", 's', 'jealous', 'of', 'them', 'as', 'a', 'couple', '.', 'a', 'clear', 'solution', 'presents', 'itself', 'to', 'kate', 'when', 'she', 'realizes', 'that', 'millie', 'is', 'very', 'sick', '-', 'dying', ',', 'in', 'fact', '.', 'at', 'this', 'point', 'she', 'decides', 'that', 'merton', 'should', 'marry', 'millie', 'until', 'she', 'dies', '.', 'millie', 'will', 'leave', 'her', 'money', 'to', 'merton', ',', 'who', 'will', 'then', 'be', 'rich', 'enough', 'to', 'marry', 'kate', '.', 'she', 'lets', 'merton', 'know', 'of', 'her', 'schemes', 'and', ',', 'since', 'it', 'will', 'help', 'him', 'win', 'kate', ',', 'he', 'reluctantly', 'agrees', '.', 'kate', 'leaves', 'venice', 'so', 'that', 'the', 'two', 'm', \"'\", 's', 'can', 'be', 'alone', 'together', '.', 'merton', 'finds', 'that', 'pretending', 'to', 'love', 'millie', 'is', 'a', 'lot', 'like', 'actually', 'loving', 'her', '.', 'he', \"'\", 's', 'not', 'sure', 'he', 'can', 'separate', 'the', 'two', '.', 'kate', 'finds', 'that', 'she', \"'\", 's', 'not', 'so', 'sure', 'she', 'really', 'wants', 'her', 'merton', 'falling', 'in', 'love', 'with', 'and', 'marrying', 'anyone', 'else', '.', 'the', 'brilliant', 'scheme', 'proves', 'to', 'be', 'painful', 'to', 'all', 'involved', '.', 'without', 'revealing', 'the', 'details', ',', 'suffice', 'it', 'to', 'say', 'that', 'the', 'situation', 'ends', 'badly', '.', 'the', 'title', 'refers', 'to', 'the', 'object', 'of', 'merton', \"'\", 's', 'vain', 'hope', 'that', 'something', 'might', 'lift', 'him', 'from', 'his', 'predicament', '.', 'one', 'is', 'left', 'with', 'feelings', 'of', 'regret', 'and', 'despair', '.', 'what', 'started', 'as', 'such', 'a', 'promising', 'relationship', 'was', 'damaged', 'by', 'greed', ',', 'anger', ',', 'and', 'jealousy', '.', 'an', 'interesting', 'thought', 'struck', 'me', 'after', 'the', 'movie', 'was', 'over', ',', 'and', 'that', 'is', 'that', 'the', 'wings', 'of', 'the', 'dove', 'almost', 'fits', 'the', 'story', 'line', 'of', 'a', 'film', 'noir', '.', 'a', 'couple', 'conspires', 'to', 'cheat', 'someone', 'out', 'of', 'their', 'money', 'so', 'they', 'can', 'live', 'happily', 'ever', 'after', '.', 'their', 'involvement', 'in', 'the', 'deception', 'makes', 'each', 'less', 'attractive', 'to', 'the', 'other', ',', 'and', 'after', 'a', 'few', 'things', 'go', 'wrong', ',', 'the', 'whole', 'idea', 'seems', 'like', 'an', 'awful', 'life', '-', 'ruining', 'mistake', '.', 'i', 'wouldn', \"'\", 't', 'call', 'the', 'wings', 'of', 'the', 'dove', 'a', 'film', 'noir', ',', 'but', 'the', 'comparison', 'is', 'interesting', '.', 'as', 'i', 'have', 'acknowledged', 'before', ',', 'i', 'am', 'not', 'a', 'wonderful', 'judge', 'of', 'acting', ',', 'but', 'i', 'liked', 'the', 'performances', 'from', 'roache', 'and', 'elliot', '.', 'roache', 'successfully', 'conveyed', 'his', 'character', \"'\", 's', 'ambivalence', 'toward', 'millie', ':', 'near', 'the', 'end', ',', 'he', 'hugs', 'her', ',', 'at', 'first', 'staring', 'into', 'space', ',', 'as', 'if', 'he', \"'\", 's', 'thinking', 'about', 'his', 'plan', 'with', 'kate', ',', 'then', 'giving', 'that', 'up', 'to', 'fully', 'embrace', 'millie', '.', 'millie', \"'\", 's', 'part', 'didn', \"'\", 't', 'require', 'as', 'much', 'range', ',', 'but', 'elliot', 'gave', 'her', 'the', 'necessary', 'bubbly', 'personality', 'that', 'made', 'her', 'irresistible', '.', 'i', 'will', 'probably', 'file', 'away', 'the', 'wings', 'of', 'the', 'dove', 'in', 'the', 'same', 'low', '-', 'traffic', 'corner', 'of', 'my', 'mind', 'as', 'sense', 'and', 'sensibility', 'and', 'persuasion', '.', 'their', 'settings', 'are', 'far', 'removed', 'from', 'my', 'personal', 'experience', '-', 'geographically', ',', 'historically', ',', 'and', 'socially', '.', 'still', ',', 'the', 'movies', 'are', 'well', 'made', 'and', 'the', 'stories', 'inevitably', 'win', 'me', 'over', '.'], 'pos')\n"
          ],
          "name": "stdout"
        }
      ]
    },
    {
      "cell_type": "code",
      "metadata": {
        "id": "TqBVdQhSQY5O"
      },
      "source": [
        "all_words=[]\r\n",
        "for word in movie_reviews.words():\r\n",
        "  all_words.append(word.lower())\r\n",
        "all_words=nltk.FreqDist(all_words)\r\n",
        "# all_words.most_common(5)\r\n",
        "# all_words.get(\",\")\r\n",
        "\r\n"
      ],
      "execution_count": null,
      "outputs": []
    },
    {
      "cell_type": "code",
      "metadata": {
        "id": "6hWGC-VRBMjo"
      },
      "source": [
        "word_features=list(all_words.keys())[:3000]\r\n"
      ],
      "execution_count": null,
      "outputs": []
    },
    {
      "cell_type": "markdown",
      "metadata": {
        "id": "xYvF5QaiChMQ"
      },
      "source": [
        "<!-- **12** -->"
      ]
    },
    {
      "cell_type": "markdown",
      "metadata": {
        "id": "F9J9AtnUqM58"
      },
      "source": [
        "**12**"
      ]
    },
    {
      "cell_type": "code",
      "metadata": {
        "colab": {
          "base_uri": "https://localhost:8080/"
        },
        "id": "fXQcV25eqOj3",
        "outputId": "a6e1a7cb-d513-46ff-9e29-d010163f8306"
      },
      "source": [
        "def find_features (document):\r\n",
        "  words=set(document)\r\n",
        "  features={}\r\n",
        "  for w in word_features:\r\n",
        "      features[w]=(w in words)\r\n",
        "  return features\r\n",
        "print(find_features(movie_reviews.words('neg/cv000_29416.txt')))"
      ],
      "execution_count": null,
      "outputs": [
        {
          "output_type": "stream",
          "text": [
            "{'plot': True, ':': True, 'two': True, 'teen': True, 'couples': True, 'go': True, 'to': True, 'a': True, 'church': True, 'party': True, ',': True, 'drink': True, 'and': True, 'then': True, 'drive': True, '.': True, 'they': True, 'get': True, 'into': True, 'an': True, 'accident': True, 'one': True, 'of': True, 'the': True, 'guys': True, 'dies': True, 'but': True, 'his': True, 'girlfriend': True, 'continues': True, 'see': True, 'him': True, 'in': True, 'her': True, 'life': True, 'has': True, 'nightmares': True, 'what': True, \"'\": True, 's': True, 'deal': True, '?': True, 'watch': True, 'movie': True, '\"': True, 'sorta': True, 'find': True, 'out': True, 'critique': True, 'mind': True, '-': True, 'fuck': True, 'for': True, 'generation': True, 'that': True, 'touches': True, 'on': True, 'very': True, 'cool': True, 'idea': True, 'presents': True, 'it': True, 'bad': True, 'package': True, 'which': True, 'is': True, 'makes': True, 'this': True, 'review': True, 'even': True, 'harder': True, 'write': True, 'since': True, 'i': True, 'generally': True, 'applaud': True, 'films': True, 'attempt': True, 'break': True, 'mold': True, 'mess': True, 'with': True, 'your': True, 'head': True, 'such': True, '(': True, 'lost': True, 'highway': True, '&': True, 'memento': True, ')': True, 'there': True, 'are': True, 'good': True, 'ways': True, 'making': True, 'all': True, 'types': True, 'these': True, 'folks': True, 'just': True, 'didn': True, 't': True, 'snag': True, 'correctly': True, 'seem': True, 'have': True, 'taken': True, 'pretty': True, 'neat': True, 'concept': True, 'executed': True, 'terribly': True, 'so': True, 'problems': True, 'well': True, 'its': True, 'main': True, 'problem': True, 'simply': True, 'too': True, 'jumbled': True, 'starts': True, 'off': True, 'normal': True, 'downshifts': True, 'fantasy': True, 'world': True, 'you': True, 'as': True, 'audience': True, 'member': True, 'no': True, 'going': True, 'dreams': True, 'characters': True, 'coming': True, 'back': True, 'from': True, 'dead': True, 'others': True, 'who': True, 'look': True, 'like': True, 'strange': True, 'apparitions': True, 'disappearances': True, 'looooot': True, 'chase': True, 'scenes': True, 'tons': True, 'weird': True, 'things': True, 'happen': True, 'most': True, 'not': True, 'explained': True, 'now': True, 'personally': True, 'don': True, 'trying': True, 'unravel': True, 'film': True, 'every': True, 'when': True, 'does': True, 'give': True, 'me': True, 'same': True, 'clue': True, 'over': True, 'again': True, 'kind': True, 'fed': True, 'up': True, 'after': True, 'while': True, 'biggest': True, 'obviously': True, 'got': True, 'big': True, 'secret': True, 'hide': True, 'seems': True, 'want': True, 'completely': True, 'until': True, 'final': True, 'five': True, 'minutes': True, 'do': True, 'make': True, 'entertaining': True, 'thrilling': True, 'or': True, 'engaging': True, 'meantime': True, 'really': True, 'sad': True, 'part': True, 'arrow': True, 'both': True, 'dig': True, 'flicks': True, 'we': True, 'actually': True, 'figured': True, 'by': True, 'half': True, 'way': True, 'point': True, 'strangeness': True, 'did': True, 'start': True, 'little': True, 'bit': True, 'sense': True, 'still': True, 'more': True, 'guess': True, 'bottom': True, 'line': True, 'movies': True, 'should': True, 'always': True, 'sure': True, 'before': True, 'given': True, 'password': True, 'enter': True, 'understanding': True, 'mean': True, 'showing': True, 'melissa': True, 'sagemiller': True, 'running': True, 'away': True, 'visions': True, 'about': True, '20': True, 'throughout': True, 'plain': True, 'lazy': True, '!': True, 'okay': True, 'people': True, 'chasing': True, 'know': True, 'need': True, 'how': True, 'giving': True, 'us': True, 'different': True, 'offering': True, 'further': True, 'insight': True, 'down': True, 'apparently': True, 'studio': True, 'took': True, 'director': True, 'chopped': True, 'themselves': True, 'shows': True, 'might': True, 've': True, 'been': True, 'decent': True, 'here': True, 'somewhere': True, 'suits': True, 'decided': True, 'turning': True, 'music': True, 'video': True, 'edge': True, 'would': True, 'actors': True, 'although': True, 'wes': True, 'bentley': True, 'seemed': True, 'be': True, 'playing': True, 'exact': True, 'character': True, 'he': True, 'american': True, 'beauty': True, 'only': True, 'new': True, 'neighborhood': True, 'my': True, 'kudos': True, 'holds': True, 'own': True, 'entire': True, 'feeling': True, 'unraveling': True, 'overall': True, 'doesn': True, 'stick': True, 'because': True, 'entertain': True, 'confusing': True, 'rarely': True, 'excites': True, 'feels': True, 'redundant': True, 'runtime': True, 'despite': True, 'ending': True, 'explanation': True, 'craziness': True, 'came': True, 'oh': True, 'horror': True, 'slasher': True, 'flick': True, 'packaged': True, 'someone': True, 'assuming': True, 'genre': True, 'hot': True, 'kids': True, 'also': True, 'wrapped': True, 'production': True, 'years': True, 'ago': True, 'sitting': True, 'shelves': True, 'ever': True, 'whatever': True, 'skip': True, 'where': True, 'joblo': True, 'nightmare': True, 'elm': True, 'street': True, '3': True, '7': True, '/': True, '10': True, 'blair': True, 'witch': True, '2': True, 'crow': True, '9': True, 'salvation': True, '4': True, 'stir': True, 'echoes': True, '8': True, 'happy': False, 'bastard': False, 'quick': False, 'damn': False, 'y2k': False, 'bug': False, 'starring': False, 'jamie': False, 'lee': False, 'curtis': False, 'another': False, 'baldwin': False, 'brother': False, 'william': False, 'time': False, 'story': False, 'regarding': False, 'crew': False, 'tugboat': False, 'comes': False, 'across': False, 'deserted': False, 'russian': False, 'tech': False, 'ship': False, 'kick': False, 'power': False, 'within': False, 'gore': False, 'bringing': False, 'few': False, 'action': False, 'sequences': False, 'virus': False, 'empty': False, 'flash': False, 'substance': False, 'why': False, 'was': False, 'middle': False, 'nowhere': False, 'origin': False, 'pink': False, 'flashy': False, 'thing': False, 'hit': False, 'mir': False, 'course': False, 'donald': False, 'sutherland': False, 'stumbling': False, 'around': False, 'drunkenly': False, 'hey': False, 'let': False, 'some': False, 'robots': False, 'acting': False, 'below': False, 'average': False, 'likes': False, 're': False, 'likely': False, 'work': False, 'halloween': False, 'h20': False, 'wasted': False, 'real': False, 'star': False, 'stan': False, 'winston': False, 'robot': False, 'design': False, 'schnazzy': False, 'cgi': False, 'occasional': False, 'shot': False, 'picking': False, 'brain': False, 'if': False, 'body': False, 'parts': False, 'turn': False, 'otherwise': False, 'much': False, 'sunken': False, 'jaded': False, 'viewer': False, 'thankful': False, 'invention': False, 'timex': False, 'indiglo': False, 'based': False, 'late': False, '1960': False, 'television': False, 'show': False, 'name': False, 'mod': False, 'squad': False, 'tells': False, 'tale': False, 'three': False, 'reformed': False, 'criminals': False, 'under': False, 'employ': False, 'police': False, 'undercover': False, 'however': False, 'wrong': False, 'evidence': False, 'gets': False, 'stolen': False, 'immediately': False, 'suspicion': False, 'ads': False, 'cuts': False, 'claire': False, 'dane': False, 'nice': False, 'hair': False, 'cute': False, 'outfits': False, 'car': False, 'chases': False, 'stuff': False, 'blowing': False, 'sounds': False, 'first': False, 'fifteen': False, 'quickly': False, 'becomes': False, 'apparent': False, 'certainly': False, 'slick': False, 'looking': False, 'complete': False, 'costumes': False, 'isn': False, 'enough': False, 'best': False, 'described': False, 'cross': False, 'between': False, 'hour': False, 'long': False, 'cop': False, 'stretched': False, 'span': False, 'single': False, 'clich': False, 'matter': False, 'elements': False, 'recycled': False, 'everything': False, 'already': False, 'seen': False, 'nothing': False, 'spectacular': False, 'sometimes': False, 'bordering': False, 'wooden': False, 'danes': False, 'omar': False, 'epps': False, 'deliver': False, 'their': False, 'lines': False, 'bored': False, 'transfers': False, 'onto': False, 'escape': False, 'relatively': False, 'unscathed': False, 'giovanni': False, 'ribisi': False, 'plays': False, 'resident': False, 'crazy': False, 'man': False, 'ultimately': False, 'being': False, 'worth': False, 'watching': False, 'unfortunately': False, 'save': False, 'convoluted': False, 'apart': False, 'occupying': False, 'screen': False, 'young': False, 'cast': False, 'clothes': False, 'hip': False, 'soundtrack': False, 'appears': False, 'geared': False, 'towards': False, 'teenage': False, 'mindset': False, 'r': False, 'rating': False, 'content': False, 'justify': False, 'juvenile': False, 'older': False, 'information': False, 'literally': False, 'spoon': False, 'hard': False, 'instead': False, 'telling': False, 'dialogue': False, 'poorly': False, 'written': False, 'extremely': False, 'predictable': False, 'progresses': False, 'won': False, 'care': False, 'heroes': False, 'any': False, 'jeopardy': False, 'll': False, 'aren': False, 'basing': False, 'nobody': False, 'remembers': False, 'questionable': False, 'wisdom': False, 'especially': False, 'considers': False, 'target': False, 'fact': False, 'number': False, 'memorable': False, 'can': False, 'counted': False, 'hand': False, 'missing': False, 'finger': False, 'times': False, 'checked': False, 'six': False, 'clear': False, 'indication': False, 'them': False, 'than': False, 'cash': False, 'spending': False, 'dollar': False, 'judging': False, 'rash': False, 'awful': False, 'seeing': False, 'avoid': False, 'at': False, 'costs': False, 'quest': False, 'camelot': False, 'warner': False, 'bros': False, 'feature': False, 'length': False, 'fully': False, 'animated': False, 'steal': False, 'clout': False, 'disney': False, 'cartoon': False, 'empire': False, 'mouse': False, 'reason': False, 'worried': False, 'other': False, 'recent': False, 'challenger': False, 'throne': False, 'last': False, 'fall': False, 'promising': False, 'flawed': False, '20th': False, 'century': False, 'fox': False, 'anastasia': False, 'hercules': False, 'lively': False, 'colorful': False, 'palate': False, 'had': False, 'beat': False, 'hands': False, 'crown': False, '1997': False, 'piece': False, 'animation': False, 'year': False, 'contest': False, 'arrival': False, 'magic': False, 'kingdom': False, 'mediocre': False, '--': False, 'd': False, 'pocahontas': False, 'those': False, 'keeping': False, 'score': False, 'nearly': False, 'dull': False, 'revolves': False, 'adventures': False, 'free': False, 'spirited': False, 'kayley': False, 'voiced': False, 'jessalyn': False, 'gilsig': False, 'early': False, 'daughter': False, 'belated': False, 'knight': False, 'king': False, 'arthur': False, 'round': False, 'table': False, 'dream': False, 'follow': False, 'father': False, 'footsteps': False, 'she': False, 'chance': False, 'evil': False, 'warlord': False, 'ruber': False, 'gary': False, 'oldman': False, 'ex': False, 'gone': False, 'steals': False, 'magical': False, 'sword': False, 'excalibur': False, 'accidentally': False, 'loses': False, 'dangerous': False, 'booby': False, 'trapped': False, 'forest': False, 'help': False, 'hunky': False, 'blind': False, 'timberland': False, 'dweller': False, 'garrett': False, 'carey': False, 'elwes': False, 'headed': False, 'dragon': False, 'eric': False, 'idle': False, 'rickles': False, 'arguing': False, 'itself': False, 'able': False, 'medieval': False, 'sexist': False, 'prove': False, 'fighter': False, 'side': False, 'pure': False, 'showmanship': False, 'essential': False, 'element': False, 'expected': False, 'climb': False, 'high': False, 'ranks': False, 'differentiates': False, 'something': False, 'saturday': False, 'morning': False, 'subpar': False, 'instantly': False, 'forgettable': False, 'songs': False, 'integrated': False, 'computerized': False, 'footage': False, 'compare': False, 'run': False, 'angry': False, 'ogre': False, 'herc': False, 'battle': False, 'hydra': False, 'rest': False, 'case': False, 'stink': False, 'none': False, 'remotely': False, 'interesting': False, 'race': False, 'bland': False, 'end': False, 'tie': False, 'win': False, 'comedy': False, 'shtick': False, 'awfully': False, 'cloying': False, 'least': False, 'signs': False, 'pulse': False, 'fans': False, \"-'\": False, '90s': False, 'tgif': False, 'will': False, 'thrilled': False, 'jaleel': False, 'urkel': False, 'white': False, 'bronson': False, 'balki': False, 'pinchot': False, 'sharing': False, 'nicely': False, 'realized': False, 'though': False, 'm': False, 'loss': False, 'recall': False, 'specific': False, 'providing': False, 'voice': False, 'talent': False, 'enthusiastic': False, 'paired': False, 'singers': False, 'sound': False, 'musical': False, 'moments': False, 'jane': False, 'seymour': False, 'celine': False, 'dion': False, 'must': False, 'strain': False, 'through': False, 'aside': False, 'children': False, 'probably': False, 'adults': False, 'grievous': False, 'error': False, 'lack': False, 'personality': False, 'learn': False, 'goes': False, 'synopsis': False, 'mentally': False, 'unstable': False, 'undergoing': False, 'psychotherapy': False, 'saves': False, 'boy': False, 'potentially': False, 'fatal': False, 'falls': False, 'love': False, 'mother': False, 'fledgling': False, 'restauranteur': False, 'unsuccessfully': False, 'attempting': False, 'gain': False, 'woman': False, 'favor': False, 'takes': False, 'pictures': False, 'kills': False, 'comments': False, 'stalked': False, 'yet': False, 'seemingly': False, 'endless': False, 'string': False, 'spurned': False, 'psychos': False, 'getting': False, 'revenge': False, 'type': False, 'stable': False, 'category': False, '1990s': False, 'industry': False, 'theatrical': False, 'direct': False, 'proliferation': False, 'may': False, 'due': False, 'typically': False, 'inexpensive': False, 'produce': False, 'special': False, 'effects': False, 'stars': False, 'serve': False, 'vehicles': False, 'nudity': False, 'allowing': False, 'frequent': False, 'night': False, 'cable': False, 'wavers': False, 'slightly': False, 'norm': False, 'respect': False, 'psycho': False, 'never': False, 'affair': False, ';': False, 'contrary': False, 'rejected': False, 'rather': False, 'lover': False, 'wife': False, 'husband': False, 'entry': False, 'doomed': False, 'collect': False, 'dust': False, 'viewed': False, 'midnight': False, 'provide': False, 'suspense': False, 'sets': False, 'interspersed': False, 'opening': False, 'credits': False, 'instance': False, 'serious': False, 'sounding': False, 'narrator': False, 'spouts': False, 'statistics': False, 'stalkers': False, 'ponders': False, 'cause': False, 'stalk': False, 'implicitly': False, 'implied': False, 'men': False, 'shown': False, 'snapshot': False, 'actor': False, 'jay': False, 'underwood': False, 'states': False, 'daryl': False, 'gleason': False, 'stalker': False, 'brooke': False, 'daniels': False, 'meant': False, 'called': False, 'guesswork': False, 'required': False, 'proceeds': False, 'begins': False, 'obvious': False, 'sequence': False, 'contrived': False, 'quite': False, 'brings': False, 'victim': False, 'together': False, 'obsesses': False, 'follows': False, 'tries': False, 'woo': False, 'plans': False, 'become': False, 'desperate': False, 'elaborate': False, 'include': False, 'cliche': False, 'murdered': False, 'pet': False, 'require': False, 'found': False, 'exception': False, 'cat': False, 'shower': False, 'events': False, 'lead': False, 'inevitable': False, 'showdown': False, 'survives': False, 'invariably': False, 'conclusion': False, 'turkey': False, 'uniformly': False, 'adequate': False, 'anything': False, 'home': False, 'either': False, 'turns': False, 'toward': False, 'melodrama': False, 'overdoes': False, 'words': False, 'manages': False, 'creepy': False, 'pass': False, 'demands': False, 'maryam': False, 'abo': False, 'close': False, 'played': False, 'bond': False, 'chick': False, 'living': False, 'daylights': False, 'equally': False, 'title': False, 'ditzy': False, 'strong': False, 'independent': False, 'business': False, 'owner': False, 'needs': False, 'proceed': False, 'example': False, 'suspicions': False, 'ensure': False, 'use': False, 'excuse': False, 'decides': False, 'return': False, 'toolbox': False, 'left': False, 'place': False, 'house': False, 'leave': False, 'door': False, 'answers': False, 'opens': False, 'wanders': False, 'returns': False, 'enters': False, 'our': False, 'heroine': False, 'danger': False, 'somehow': False, 'parked': False, 'front': False, 'right': False, 'oblivious': False, 'presence': False, 'inside': False, 'whole': False, 'episode': False, 'places': False, 'incredible': False, 'suspension': False, 'disbelief': False, 'questions': False, 'validity': False, 'intelligence': False, 'receives': False, 'highly': False, 'derivative': False, 'somewhat': False, 'boring': False, 'cannot': False, 'watched': False, 'rated': False, 'mostly': False, 'several': False, 'murder': False, 'brief': False, 'strip': False, 'bar': False, 'offensive': False, 'many': False, 'thrillers': False, 'mood': False, 'stake': False, 'else': False, 'capsule': False, '2176': False, 'planet': False, 'mars': False, 'taking': False, 'custody': False, 'accused': False, 'murderer': False, 'face': False, 'menace': False, 'lot': False, 'fighting': False, 'john': False, 'carpenter': False, 'reprises': False, 'ideas': False, 'previous': False, 'assault': False, 'precinct': False, '13': False, 'homage': False, 'himself': False, '0': False, '+': False, 'believes': False, 'fight': False, 'horrible': False, 'writer': False, 'supposedly': False, 'expert': False, 'mistake': False, 'ghosts': False, 'drawn': False, 'humans': False, 'surprisingly': False, 'low': False, 'powered': False, 'alien': False, 'addition': False, 'anybody': False, 'made': False, 'grounds': False, 'sue': False, 'chock': False, 'full': False, 'pieces': False, 'prince': False, 'darkness': False, 'surprising': False, 'managed': False, 'fit': False, 'admittedly': False, 'novel': False, 'science': False, 'fiction': False, 'experience': False, 'terraformed': False, 'walk': False, 'surface': False, 'without': False, 'breathing': False, 'gear': False, 'budget': False, 'mentioned': False, 'gravity': False, 'increased': False, 'earth': False, 'easier': False, 'society': False, 'changed': False, 'advanced': False, 'culture': False, 'women': False, 'positions': False, 'control': False, 'view': False, 'stagnated': False, 'female': False, 'beyond': False, 'minor': False, 'technological': False, 'advances': False, 'less': False, '175': False, 'expect': False, 'change': False, 'ten': False, 'basic': False, 'common': False, 'except': False, 'yes': False, 'replaced': False, 'tacky': False, 'rundown': False, 'martian': False, 'mining': False, 'colony': False, 'having': False, 'criminal': False, 'napolean': False, 'wilson': False, 'desolation': False, 'williams': False, 'facing': False, 'hoodlums': False, 'automatic': False, 'weapons': False, 'nature': False, 'behave': False, 'manner': False, 'essentially': False, 'human': False, 'savages': False, 'lapse': False, 'imagination': False, 'told': False, 'flashback': False, 'entirely': False, 'filmed': False, 'almost': False, 'tones': False, 'red': False, 'yellow': False, 'black': False, 'powerful': False, 'scene': False, 'train': False, 'rushing': False, 'heavy': False, 'sadly': False, 'buildup': False, 'terror': False, 'creates': False, 'looks': False, 'fugitive': False, 'wannabes': False, 'rock': False, 'band': False, 'kiss': False, 'building': False, 'bunch': False, 'sudden': False, 'jump': False, 'sucker': False, 'thinking': False, 'scary': False, 'happening': False, 'standard': False, 'haunted': False, 'shock': False, 'great': False, 'newer': False, 'unimpressive': False, 'digital': False, 'decapitations': False, 'fights': False, 'short': False, 'stretch': False, 'release': False, 'mission': False, 'panned': False, 'reviewers': False, 'better': False, 'rate': False, 'scale': False, 'following': False, 'showed': False, 'liked': False, 'moderately': False, 'classic': False, 'comment': False, 'twice': False, 'ask': False, 'yourself': False, '8mm': False, 'eight': False, 'millimeter': False, 'wholesome': False, 'surveillance': False, 'sight': False, 'values': False, 'becoming': False, 'enmeshed': False, 'seedy': False, 'sleazy': False, 'underworld': False, 'hardcore': False, 'pornography': False, 'bubbling': False, 'beneath': False, 'town': False, 'americana': False, 'sordid': False, 'sick': False, 'depraved': False, 'necessarily': False, 'stop': False, 'order': False, 'satisfy': False, 'twisted': False, 'desires': False, 'position': False, 'influence': False, 'kinds': False, 'demented': False, 'talking': False, 'snuff': False, 'supposed': False, 'documentaries': False, 'victims': False, 'brutalized': False, 'killed': False, 'camera': False, 'joel': False, 'schumacher': False, 'credit': False, 'batman': False, 'robin': False, 'kill': False, 'forever': False, 'client': False, 'thirds': False, 'unwind': False, 'fairly': False, 'conventional': False, 'persons': False, 'drama': False, 'albeit': False, 'particularly': False, 'unsavory': False, 'core': False, 'threatening': False, 'along': False, 'explodes': False, 'violence': False, 'think': False, 'finally': False, 'tags': False, 'ridiculous': False, 'self': False, 'righteous': False, 'finale': False, 'drags': False, 'unpleasant': False, 'trust': False, 'waste': False, 'hours': False, 'nicolas': False, 'snake': False, 'eyes': False, 'cage': False, 'private': False, 'investigator': False, 'tom': False, 'welles': False, 'hired': False, 'wealthy': False, 'philadelphia': False, 'widow': False, 'determine': False, 'whether': False, 'reel': False, 'safe': False, 'documents': False, 'girl': False, 'assignment': False, 'factly': False, 'puzzle': False, 'neatly': False, 'specialized': False, 'skills': False, 'training': False, 'easy': False, 'cops': False, 'toilet': False, 'tanks': False, 'clues': False, 'deeper': False, 'digs': False, 'investigation': False, 'obsessed': False, 'george': False, 'c': False, 'scott': False, 'paul': False, 'schrader': False, 'occasionally': False, 'flickering': False, 'whirs': False, 'sprockets': False, 'winding': False, 'projector': False, 'reminding': False, 'task': False, 'hints': False, 'toll': False, 'lovely': False, 'catherine': False, 'keener': False, 'frustrated': False, 'cleveland': False, 'ugly': False, 'split': False, 'level': False, 'harrisburg': False, 'pa': False, 'condemn': False, 'condone': False, 'subject': False, 'exploits': False, 'irony': False, 'seven': False, 'scribe': False, 'andrew': False, 'kevin': False, 'walker': False, 'vision': False, 'lane': False, 'limited': False, 'hollywood': False, 'product': False, 'snippets': False, 'covering': False, 'later': False, 'joaquin': False, 'phoenix': False, 'far': False, 'adult': False, 'bookstore': False, 'flunky': False, 'max': False, 'california': False, 'cover': False, 'horrid': False, 'screened': False, 'familiar': False, 'revelation': False, 'sexual': False, 'deviants': False, 'indeed': False, 'monsters': False, 'everyday': False, 'neither': False, 'super': False, 'nor': False, 'shocking': False, 'banality': False, 'exactly': False, 'felt': False, 'weren': False, 'nine': False, 'laughs': False, 'months': False, 'terrible': False, 'mr': False, 'hugh': False, 'grant': False, 'huge': False, 'dork': False, 'oral': False, 'sex': False, 'prostitution': False, 'referring': False, 'bugs': False, 'annoying': False, 'adam': False, 'sandler': False, 'jim': False, 'carrey': False, 'eye': False, 'flutters': False, 'nervous': False, 'smiles': False, 'slapstick': False, 'fistfight': False, 'delivery': False, 'room': False, 'culminating': False, 'joan': False, 'cusack': False, 'lap': False, 'paid': False, '$': False, '60': False, 'included': False, 'obscene': False, 'double': False, 'entendres': False, 'obstetrician': False, 'pregnant': False, 'pussy': False, 'size': False, 'hairs': False, 'coat': False, 'nonetheless': False, 'exchange': False, 'cookie': False, 'cutter': False, 'originality': False, 'humor': False, 'successful': False, 'child': False, 'psychiatrist': False, 'psychologist': False, 'scriptwriters': False, 'could': False, 'inject': False, 'unfunny': False, 'kid': False, 'dad': False, 'asshole': False, 'eyelashes': False, 'offers': False, 'smile': False, 'responds': False, 'english': False, 'accent': False, 'attitude': False, 'possibly': False, '_huge_': False, 'beside': False, 'includes': False, 'needlessly': False, 'stupid': False, 'jokes': False, 'olds': False, 'everyone': False, 'shakes': False, 'anyway': False, 'finds': False, 'usual': False, 'reaction': False, 'fluttered': False, 'paves': False, 'possible': False, 'pregnancy': False, 'birth': False, 'gag': False, 'book': False, 'friend': False, 'arnold': False, 'provides': False, 'cacophonous': False, 'funny': False, 'beats': False, 'costumed': False, 'arnie': False, 'dinosaur': False, 'draw': False, 'parallels': False, 'toy': False, 'store': False, 'jeff': False, 'goldblum': False, 'hid': False, 'dreadful': False, 'hideaway': False, 'artist': False, 'fear': False, 'simultaneous': False, 'longing': False, 'commitment': False, 'doctor': False, 'recently': False, 'switch': False, 'veterinary': False, 'medicine': False, 'obstetrics': False, 'joke': False, 'old': False, 'foreign': False, 'guy': False, 'mispronounces': False, 'stereotype': False, 'say': False, 'yakov': False, 'smirnov': False, 'favorite': False, 'vodka': False, 'hence': False, 'take': False, 'volvo': False, 'nasty': False, 'unamusing': False, 'heads': False, 'simultaneously': False, 'groan': False, 'failure': False, 'loud': False, 'failed': False, 'uninspired': False, 'lunacy': False, 'sunset': False, 'boulevard': False, 'arrest': False, 'please': False, 'caught': False, 'pants': False, 'bring': False, 'theaters': False, 'faces': False, '90': False, 'forced': False, 'unauthentic': False, 'anyone': False, 'q': False, '80': False, 'sorry': False, 'money': False, 'unfulfilled': False, 'desire': False, 'spend': False, 'bucks': False, 'call': False, 'road': False, 'trip': False, 'walking': False, 'wounded': False, 'stellan': False, 'skarsg': False, 'rd': False, 'convincingly': False, 'zombified': False, 'drunken': False, 'loser': False, 'difficult': False, 'smelly': False, 'boozed': False, 'reliable': False, 'swedish': False, 'adds': False, 'depth': False, 'significance': False, 'plodding': False, 'aberdeen': False, 'sentimental': False, 'painfully': False, 'mundane': False, 'european': False, 'playwright': False, 'august': False, 'strindberg': False, 'built': False, 'career': False, 'families': False, 'relationships': False, 'paralyzed': False, 'secrets': False, 'unable': False, 'express': False, 'longings': False, 'accurate': False, 'reflection': False, 'strives': False, 'focusing': False, 'pairing': False, 'alcoholic': False, 'tomas': False, 'alienated': False, 'openly': False, 'hostile': False, 'yuppie': False, 'kaisa': False, 'lena': False, 'headey': False, 'gossip': False, 'haven': False, 'spoken': False, 'wouldn': False, 'norway': False, 'scotland': False, 'automobile': False, 'charlotte': False, 'rampling': False, 'sand': False, 'rotting': False, 'hospital': False, 'bed': False, 'cancer': False, 'soap': False, 'opera': False, 'twist': False, 'days': False, 'live': False, 'blitzed': False, 'step': False, 'foot': False, 'plane': False, 'hits': False, 'open': False, 'loathing': False, 'each': False, 'periodic': False, 'stops': False, 'puke': False, 'dashboard': False, 'whenever': False, 'muttering': False, 'rotten': False, 'turned': False, 'sloshed': False, 'viewpoint': False, 'recognizes': False, 'apple': False, 'hasn': False, 'fallen': False, 'tree': False, 'nosebleeds': False, 'snorting': False, 'coke': False, 'sabotages': False, 'personal': False, 'indifference': False, 'restrain': False, 'vindictive': False, 'temper': False, 'ain': False, 'pair': False, 'true': False, 'notes': False, 'unspoken': False, 'familial': False, 'empathy': False, 'note': False, 'repetitively': False, 'bitchy': False, 'screenwriters': False, 'kristin': False, 'amundsen': False, 'hans': False, 'petter': False, 'moland': False, 'fabricate': False, 'series': False, 'contrivances': False, 'propel': False, 'forward': False, 'roving': False, 'hooligans': False, 'drunks': False, 'nosy': False, 'flat': False, 'tires': False, 'figure': False, 'schematic': False, 'convenient': False, 'narrative': False, 'reach': False, 'unveil': False, 'dark': False, 'past': False, 'simplistic': False, 'devices': False, 'trivialize': False, 'conflict': False, 'mainstays': False, 'wannabe': False, 'exists': False, 'purely': False, 'sake': False, 'weak': False, 'unimaginative': False, 'casting': False, 'thwarts': False, 'pivotal': False, 'role': False, 'were': False, 'stronger': False, 'actress': False, 'perhaps': False, 'coast': False, 'performances': False, 'moody': False, 'haunting': False, 'cinematography': False, 'rendering': False, 'pastoral': False, 'ghost': False, 'reference': False, 'certain': False, 'superior': False, 'indie': False, 'intentional': False, 'busy': False, 'using': False, 'furrowed': False, 'brow': False, 'convey': False, 'twitch': False, 'insouciance': False, 'paying': False, 'attention': False, 'maybe': False, 'doing': False, 'reveal': False, 'worthwhile': False, 'earlier': False, 'released': False, '2001': False, 'jonathan': False, 'nossiter': False, 'captivating': False, 'wonders': False, 'disturbed': False, 'parental': False, 'figures': False, 'bound': False, 'ceremonial': False, 'wedlock': False, 'differences': False, 'presented': False, 'significant': False, 'luminous': False, 'diva': False, 'preening': False, 'static': False, 'solid': False, 'performance': False, 'pathetic': False, 'drunk': False, 'emote': False, 'besides': False, 'catatonic': False, 'sorrow': False, 'genuine': False, 'ferocity': False, 'sexually': False, 'charged': False, 'frisson': False, 'during': False, 'understated': False, 'confrontations': False, 'suggest': False, 'gray': False, 'zone': False, 'complications': False, 'accompany': False, 'torn': False, 'romance': False, 'stifled': False, 'curiosity': False, 'thoroughly': False, 'explores': False, 'neurotic': False, 'territory': False, 'delving': False, 'americanization': False, 'greece': False, 'mysticism': False, 'illusion': False, 'deflect': False, 'pain': False, 'overloaded': False, 'willing': False, 'come': False, 'traditional': False, 'ambitious': False, 'sleepwalk': False, 'rhythms': False, 'timing': False, 'driven': False, 'stories': False, 'complexities': False, 'depressing': False, 'answer': False, 'lawrence': False, 'kasdan': False, 'trite': False, 'useful': False, 'grand': False, 'canyon': False, 'steve': False, 'martin': False, 'mogul': False, 'pronounces': False, 'riddles': False, 'answered': False, 'advice': False, 'heart': False, 'french': False, 'sees': False, 'parents': False, 'tim': False, 'roth': False, 'oops': False, 'vows': False, 'taught': False, 'musketeer': False, 'dude': False, 'used': False, 'fourteen': False, 'arrgh': False, 'swish': False, 'zzzzzzz': False, 'original': False, 'lacks': False, 'energy': False, 'next': False, 'hmmmm': False, 'justin': False, 'chambers': False, 'basically': False, 'uncharismatic': False, 'version': False, 'chris': False, 'o': False, 'donnell': False, 'range': False, 'mena': False, 'suvari': False, 'thora': False, 'birch': False, 'dungeons': False, 'dragons': False, 'miscast': False, 'deliveries': False, 'piss': False, 'poor': False, 'ms': False, 'fault': False, 'definitely': False, 'higher': False, 'semi': False, 'saving': False, 'grace': False, 'wise': False, 'irrepressible': False, 'once': False, 'thousand': False, 'god': False, 'beg': False, 'agent': False, 'marketplace': False, 'modern': False, 'day': False, 'roles': False, 'romantic': False, 'gunk': False, 'alright': False, 'yeah': False, 'yikes': False, 'notches': False, 'fellas': False, 'blares': False, 'ear': False, 'accentuate': False, 'annoy': False, 'important': False, 'behind': False, 'recognize': False, 'epic': False, 'fluffy': False, 'rehashed': False, 'cake': False, 'created': False, 'shrewd': False, 'advantage': False, 'kung': False, 'fu': False, 'phenomenon': False, 'test': False, 'dudes': False, 'keep': False, 'reading': False, 'editing': False, 'shoddy': False, 'banal': False, 'stilted': False, 'plentiful': False, 'top': False, 'horse': False, 'carriage': False, 'stand': False, 'opponent': False, 'scampering': False, 'cut': False, 'mouseketeer': False, 'rope': False, 'tower': False, 'jumping': False, 'chords': False, 'hanging': False, 'says': False, '14': False, 'shirt': False, 'strayed': False, 'championing': False, 'fun': False, 'stretches': False, 'atrocious': False, 'lake': False, 'reminded': False, 'school': False, 'cringe': False, 'musketeers': False, 'fat': False, 'raison': False, 'etre': False, 'numbers': False, 'hoping': False, 'packed': False, 'stuntwork': False, 'promoted': False, 'trailer': False, 'major': False, 'swashbuckling': False, 'beginning': False, 'finishes': False, 'juggling': False, 'ladders': False, 'ladder': False, 'definite': False, 'keeper': False, 'regurgitated': False, 'crap': False, 'tell': False, 'deneuve': False, 'placed': False, 'hullo': False, 'barely': False, 'ugh': False, 'small': False, 'annoyed': False, 'trash': False, 'gang': False, 'vow': False, 'stay': False, 'thank': False, 'outlaws': False, '5': False, 'crouching': False, 'tiger': False, 'hidden': False, 'matrix': False, 'replacement': False, 'killers': False, '6': False, 'romeo': False, 'die': False, 'shanghai': False, 'noon': False, 'remembered': False, 'dr': False, 'hannibal': False, 'lecter': False, 'michael': False, 'mann': False, 'forensics': False, 'thriller': False, 'manhunter': False, 'scottish': False, 'brian': False, 'cox': False, 'works': False, 'usually': False, 'schlock': False, 'halfway': False, 'goodnight': False, 'meaty': False, 'substantial': False, 'brilliant': False, 'check': False, 'dogged': False, 'inspector': False, 'opposite': False, 'frances': False, 'mcdormand': False, 'ken': False, 'loach': False, 'agenda': False, 'harrigan': False, 'disturbing': False, 'l': False, 'e': False, '47': False, 'picked': False, 'sundance': False, 'distributors': False, 'scared': False, 'budge': False, 'dares': False, 'speak': False, 'expresses': False, 'seeking': False, 'adolescents': False, 'pad': False, 'bothered': False, 'members': False, 'presentation': False, 'oddly': False, 'empathetic': False, 'light': False, 'tempered': False, 'robust': False, 'listens': False, 'opposed': False, 'friends': False, 'wire': False, 'act': False, 'confused': False, 'lives': False, 'pay': False, 'courtship': False, 'charming': False, 'temptations': False, 'grown': False, 'stands': False, 'island': False, 'expressway': False, 'slices': False, 'malls': False, 'class': False, 'homes': False, 'suburbia': False, 'filmmaker': False, 'cuesta': False, 'uses': False, 'transparent': False, 'metaphor': False, '15': False, 'protagonist': False, 'howie': False, 'franklin': False, 'dano': False, 'reveals': False, 'morbid': False, 'preoccupation': False, 'death': False, 'citing': False, 'deaths': False, 'alan': False, 'j': False, 'pakula': False, 'songwriter': False, 'harry': False, 'chapin': False, 'exit': False, '52': False, 'fascinated': False, 'feelings': False, 'projected': False, 'bright': False, 'move': False, 'force': False, 'complex': False, 'molesters': False, 'beast': False, 'ashamed': False, 'worked': False, 'ill': False, 'advised': False, 'foray': False, 'unnecessary': False, 'padding': False, 'miserable': False, 'bruce': False, 'altman': False, 'seat': False, 'collar': False, 'crime': False, 'degenerate': False, 'youngsters': False, 'kicks': False, 'robbing': False, 'houses': False, 'homoerotic': False, 'shenanigans': False, 'ass': False, 'terrio': False, 'billy': False, 'kay': False, 'handsome': False, 'artful': False, 'dodger': False, 'add': False, 'themes': False, 'suburban': False, 'ennui': False, 'needed': False, 'awkward': False, 'subplots': False, 'concurrently': False, 'relationship': False, 'evenly': False, 'paced': False, 'exceptionally': False, 'acted': False, 'sporting': False, 'baseball': False, 'cap': False, 'faded': False, 'marine': False, 'tattoo': False, 'bluff': False, 'bluster': False, 'quiet': False, 'glance': False, 'withdrawn': False, 'whose': False, 'dramatic': False, 'choices': False, 'broad': False, 'calling': False, 'haley': False, 'restraint': False, 'admirable': False, 'screenplay': False, 'material': False, 'reads': False, 'walt': False, 'whitman': False, 'poem': False, 'moment': False, 'precious': False, 'lingers': False, 'ecstatic': False, 'hearing': False, 'glenn': False, 'gould': False, 'performing': False, 'bach': False, 'goldberg': False, 'variations': False, 'involving': False, 'walter': False, 'masterson': False, 'jealous': False, 'newbie': False, 'thread': False, 'predictably': False, 'leads': False, 'observational': False, 'portrait': False, 'alienation': False, 'royally': False, 'screwed': False, 'terry': False, 'zwigoff': False, 'superb': False, 'confidence': False, 'ambivalent': False, 'typical': False, 'cinema': False, 'wrap': False, 'bullet': False, 'sparing': False, 'writers': False, 'philosophical': False, 'regard': False, 'countless': False, 'share': False, 'blockbuster': False, 'solved': False, 'obstacle': False, 'removed': False, 'often': False, 'extend': False, 'question': False, 'striving': False, 'realism': False, 'destroy': False, 'janeane': False, 'garofalo': False, 'couple': False, 'truth': False, 'cats': False, 'dogs': False, 'excruciating': False, 'matchmaker': False, 'books': False, 'plods': False, 'predestined': False, 'surprises': False, 'jumps': False, 'popular': False, 'political': False, 'satire': False, 'bandwagon': False, 'campaign': False, 'aide': False, 'massacusetts': False, 'senator': False, 'sanders': False, 'reelection': False, 'denis': False, 'leary': False, 'stereotypical': False, 'strategist': False, 'ethics': False, 'scandal': False, 'plagued': False, 'play': False, 'irish': False, 'roots': False, 'boston': False, 'roman': False, 'catholic': False, 'democrat': False, 'contingent': False, 'kennedy': False, 'family': False, 'orders': False, 'ireland': False, 'relatives': False, 'exploit': False, 'soon': False, 'learns': False, 'said': False, 'done': False, 'mantra': False, 'tiny': False, 'misses': False, 'bus': False, 'hotel': False, 'ends': False, 'smallest': False, 'trashiest': False, 'dog': False, 'luggage': False, 'roger': False, 'ebert': False, 'calls': False, 'meet': False, 'happens': False, 'unconventional': False, 'cinematic': False, 'walks': False, 'bathroom': False, 'nude': False, 'sean': False, 'david': False, 'hara': False, 'bathtub': False, 'points': False, 'guessing': False, 'water': False, 'hates': False, 'instant': False, 'saw': False, 'irishman': False, 'hate': False, 'awhile': False, 'succumb': False, 'charms': False, 'happily': False, 'superficial': False, 'detail': False, 'throw': False, 'turmoil': False, 'reconcile': False, 'tune': False, 'annual': False, 'matchmaking': False, 'festival': False, 'lonely': False, 'county': False, 'future': False, 'bliss': False, 'milo': False, 'shea': False, 'snyder': False, 'pops': False, 'onscreen': False, 'spew': False, 'souls': False, 'assured': False, 'match': False, 'utter': False, 'predictability': False, 'message': False, 'respectable': False, 'person': False, 'comedic': False, 'distinction': False, 'sell': False, 'script': False, 'excited': False, 'stays': False, 'stateside': False, 'yelling': False, 'phone': False, 'undoes': False, 'microphone': False, 'speech': False, 'known': False, 'flying': False, 'hong': False, 'kong': False, 'style': False, 'filmmaking': False, 'classics': False, 'nod': False, 'asia': False, 'france': False, 'lukewarm': False, 'dumas': False, 'asian': False, 'stunt': False, 'coordinator': False, 'xing': False, 'xiong': False, 'prior': False, 'attempts': False, 'choreography': False, 'laughable': False, 'van': False, 'damme': False, 'vehicle': False, 'team': False, 'dennis': False, 'rodman': False, 'simon': False, 'sez': False, 'thrown': False, 'air': False, 'result': False, 'tepid': False, 'adventure': False, 'rip': False, 'stinks': False, 'indiana': False, 'jones': False, 'simple': False, 'grandmother': False, 'adapted': False, 'artagnan': False, 'vengeful': False, 'son': False, 'slain': False, 'travels': False, 'paris': False, 'join': False, 'royal': False, 'meets': False, 'cunning': False, 'cardinal': False, 'richelieu': False, 'stephen': False, 'rea': False, 'overthrow': False, 'associate': False, 'febre': False, 'killer': False, 'disbanded': False, 'rounds': False, 'aramis': False, 'nick': False, 'moran': False, 'athos': False, 'jan': False, 'gregor': False, 'kremp': False, 'porthos': False, 'steven': False, 'spiers': False, 'wrongfully': False, 'imprisoned': False, 'leader': False, 'treville': False, 'prison': False, 'frisky': False, 'interest': False, 'chambermaid': False, 'francesca': False, 'footsy': False, 'coo': False, 'hunts': False, 'queen': False, 'captured': False, 'menancing': False, 'forcing': False, 'regroup': False, 'leading': False, 'charge': False, 'peter': False, 'hyams': False, 'wanted': False, 'blend': False, 'eastern': False, 'western': False, 'styles': False, 'disaster': False, 'reality': False, 'ones': False, 'jet': False, 'li': False, 'risk': False, 'ironically': False, 'swordplay': False, 'spread': False, 'carry': False, 'bulk': False, '30': False, 'minute': False, 'picture': False, 'weighs': False, 'monotonous': False, 'gene': False, 'quintano': False, 'prosaic': False, 'wedding': False, 'planner': False, 'mousy': False, 'artangnan': False, 'hyam': False, 'candles': False, 'torches': False, 'grime': False, 'filth': False, '17th': False, 'noted': False, 'standout': False, 'mortal': False, 'kombat': False, 'annihilation': False, 'reviewed': False, 'multiple': False, 'levels': False, 'rampant': False, 'usage': False, 'randian': False, 'subtext': False, 'pervades': False, 'occasionaly': False, 'ironic': False, 'depreciating': False, 'remark': False, 'tosses': False, 'clearly': False, 'marxist': False, 'imagery': False, 'kidding': False, 'seriousness': False, 'fair': False, '*': False, 'necessary': False, 'viewpoints': False, 'watcher': False, 'unfamiliar': False, 'marginally': False, 'fan': False, 'games': False, '1995': False, 'concerned': False, 'martial': False, 'arts': False, 'tournament': False, 'decide': False, 'fate': False, 'billion': False, 'inhabitants': False, 'mortals': False, 'theory': False, 'prevented': False, 'emperor': False, 'shao': False, 'khan': False, 'arriving': False, 'ready': False, 'assumed': False, 'stance': False, 'extraordinarily': False, 'myself': False, 'game': False, 'enjoyed': False, 'directors': False, 'knew': False, 'limitations': False, 'try': False, 'overachieve': False, 'accompanying': False, 'intersperesed': False, 'distracting': False, 'non': False, 'intrusive': False, 'bits': False, 'fluff': False, 'passing': False, 'smashing': False, 'success': False, 'box': False, 'office': False, 'picks': False, 'precisely': False, 'introductory': False, 'exposition': False, 'anyways': False, 'hell': False, 'silly': False, 'rule': False, 'winning': False, 'thereafter': False, 'approximately': False, '85': False, 'alternates': False, 'general': False, 'impression': False, 'producers': False, 'thought': False, 'formula': False, 'volumes': False, 'truly': False, 'sandra': False, 'hess': False, 'sonya': False, 'blade': False, 'execrable': False, 'convince': False, 'loved': False, 'johnny': False, 'greased': False, 'worst': False, 'mis': False, 'james': False, 'remar': False, 'raiden': False, 'thunder': False, 'christopher': False, 'lambert': False, 'japanese': False, 'revered': False, 'chinese': False, 'mystics': False, 'against': False, 'lister': False, 'jr': False, 'president': False, 'u': False, 'fifth': False, 'utility': False, 'totally': False, 'luxury': False, 'amused': False, 'awareness': False, 'introduced': False, 'meaningless': False, 'sidetracks': False, 'including': False, 'muddled': False, 'liu': False, 'kang': False, 'shou': False, 'seeks': False, 'nightwolf': False, 'litefoot': False, 'mystical': False, 'hallucination': False, 'jade': False, 'irina': False, 'pantaeva': False, 'reasons': False, 'unless': False, 'critiques': False, 'apply': False, 'worse': False, 'bridgette': False, 'convincing': False, 'looked': False, 'mimicing': False, 'movements': False, 'choreographer': False, 'knows': False, 'puts': False, 'believable': False, 'jax': False, 'earthquake': False, 'animality': False, 'bonus': False, 'similar': False, 'moves': False, 'mistakenly': False, 'hang': False, 'lamest': False, 'involved': False, 'mud': False, 'wrestling': False, 'lame': False, 'politically': False, 'incorrect': False, 'noticed': False, 'remarked': False, 'upon': False, 'emporer': False, 'perform': False, 'animalities': False, 'motaro': False, 'sheeva': False, 'lifelike': False, 'goro': False, 'enjoy': False, 'femme': False, 'la': False, 'nikita': False, 'backdraft': False, 'sliver': False, 'cindy': False, 'crawford': False, 'anne': False, 'parillaud': False, 'conspire': False, 'shattered': False, 'image': False, 'hooey': False, 'stallone': False, 'stone': False, 'specialist': False, 'poses': False, 'recurring': False, 'assassin': False, 'honeymooning': False, 'jamaica': False, 'believe': False, 'runs': False, 'painful': False, 'pedestrian': False, 'siouxsie': False, 'sioux': False, 'wig': False, 'emotionless': False, 'leather': False, 'clothing': False, 'seattle': False, 'moping': False, 'karen': False, 'endlessly': False, 'complicated': False, 'plots': False, 'helps': False, 'crisp': False, 'modicum': False, 'shakespearean': False, 'begin': False, 'saddled': False, 'leaden': False, 'zero': False, 'breaking': False, 'cardboard': False, 'confines': False, 'insist': False, 'couldn': False, 'huh': False, 'wonderful': False, 'interchange': False, 'charm': False, 'faster': False, 'learned': False, 'cereal': False, 'crybaby': False, 'imagines': False, 'stranger': False, 'sends': False, 'flowers': False, 'chromium': False, 'tough': False, 'nails': False, 'crack': False, 'killing': False, 'machine': False, 'shoots': False, 'mirrors': False, 'stock': False, 'interested': False, 'nest': False, 'egg': False, 'pave': False, 'paradise': False, 'put': False, 'parking': False, 'graham': False, 'greene': False, 'barbet': False, 'schroeder': False, 'reversal': False, 'fortune': False, 'co': False, 'produced': False, 'agonizingly': False, 'b': False, 'york': False, 'vampires': False, 'latest': False, 'opus': False, 'bent': False, 'outing': False, 'aptly': False, 'titled': False, 'suppose': False, 'went': False, 'prefixed': False, 'possessive': False, 'unashamed': False, 'punctuated': False, 'above': False, 'storyline': False, 'borders': False, 'idiotic': False, 'chaotic': False, 'dormant': False, 'martians': False, 'swirling': False, 'gases': False, 'awakened': False, 'meddling': False, 'possess': False, 'hapless': False, 'colonists': False, 'testy': False, 'marilyn': False, 'manson': False, 'lookalikes': False, 'pooh': False, 'bah': False, 'counsel': False, 'official': False, 'melanie': False, 'ballard': False, 'natasha': False, 'henstridge': False, 'sub': False, 'species': False, 'returnee': False, 'officer': False, 'incarcerated': False, 'felon': False, 'second': False, 'blonde': False, 'pulled': False, 'tightly': False, 'awkwardly': False, 'ponytail': False, 'ice': False, 'cube': False, 'appropriately': False, 'named': False, 'pam': False, 'grier': False, 'briefly': False, 'whom': False, 'wonder': False, 'host': False, 'extras': False, 'therefore': False, 'bird': False, 'shots': False, 'sprawling': False, 'metropolis': False, 'reddish': False, 'state': False, 'art': False, 'trademark': False, 'finding': False, 'department': False, 'lock': False, 'laughing': False, 'barrel': False, 'fare': False, 'dingy': False, 'interiors': False, 'cluttered': False, 'exteriors': False, 'inane': False, 'lots': False, 'scarred': False, 'crazed': False, 'aliens': False, 'weaponry': False, 'warfare': False, 'warning': False, 'spontaneously': False, 'stupidly': False, 'villains': False, 'border': False, 'conflicts': False, 'shootouts': False, 'minus': False, 'hissing': False, 'plissken': False, 'miss': False, 'dubbed': False, 'minimalist': False, 'soundtracks': False, 'graduated': False, 'effective': False, 'scoring': False, 'highlighting': False, 'screeching': False, 'guitar': False, 'fortunately': False, 'drowns': False, 'er': False, 'audible': False, 'priceless': False, 'proven': False, 'infertile': False, 'breeding': False, 'ground': False, 'stillborn': False, 'val': False, 'kilmer': False, 'disappointing': False, 'weekend': False, 'overshadowed': False, 'sequels': False, 'among': False, 'pie': False, 'rush': False, 'absent': False, 'references': False, 'set': False, 'perth': False, 'amboys': False, 'closest': False, 'neighbor': False, 'slap': False, 'upside': False, '1': False, 'keeps': False, 'miraculously': False, 'pretend': False, 'means': False, 'intelligent': False, 'grade': False, 'sci': False, 'fi': False, 'singularly': False, 'luck': False, 'starting': False, 'alicia': False, 'silverstone': False, 'beautiful': False, 'creatures': False, 'green': False, 'critic': False, 'large': False, 'choosing': False, 'strikes': False, 'crush': False, 'slow': False, 'moving': False, 'horrific': False, 'adaptation': False, 'clueless': False, 'mailed': False, 'saying': False, 'theater': False, 'expecting': False, 'preview': False, 'crazymadinlove': False, 'whiny': False, 'unlikable': False, 'wasn': False, 'yelled': False, 'f': False, '$&#': False, 'laugh': False, 'agreement': False, 'walked': False, 'babysitter': False, 'inner': False, 'compulsion': False, 'understand': False, 'rent': False, 'regret': False, 'paragraph': False, 'competition': False, 'criticizing': False, 'thin': False, 'shred': False, 'slower': False, 'glacier': False, 'writing': False, 'appeal': False, 'whatsoever': False, 'pointlessly': False, 'concluded': False, 'violent': False, 'plus': False, 'equals': False, 'spends': False, 'twenty': False, 'bubble': False, 'bath': False, 'joined': False, 'four': False, 'features': False, 'settle': False, 'friday': False, 'cocktail': False, 'automatically': False, 'nights': False, 'trods': False, 'discover': False, 'silent': False, 'object': False, 'male': False, 'fantasies': False, 'thinks': False, 'recapture': False, 'youth': False, 'boyfriend': False, 'lets': False, 'wild': False, 'spying': False, 'outside': False, 'prepubescent': False, 'keyhole': False, 'aged': False, 'counterpart': False, 'asked': False, '200': False, 'pound': False, 'silk': False, 'teddy': False, 'fanatasies': False, 'realm': False, 'pg': False, 'imagine': False, 'cinemax': False, 'staple': False, 'absolutely': False, 'pointed': False, 'classify': False, 'mix': False, 'various': False, 'encounters': False, 'third': False, 'space': False, 'odyssey': False, 'apollo': False, 'contact': False, 'hope': False, 'melange': False, 'considering': False, 'disastrous': False, 'results': False, 'sucks': False, 'rescue': False, 'astronauts': False, 'sent': False, '2020': False, 'unknown': False, 'aviators': False, 'visit': False, 'underwhelming': False, 'describe': False, 'uneven': False, 'promise': False, 'buzz': False, 'neutral': False, 'cherry': False, 'colored': False, 'nerdies': False, 'techie': False}\n"
          ],
          "name": "stdout"
        }
      ]
    },
    {
      "cell_type": "code",
      "metadata": {
        "id": "5tD1qnJZ2wZZ"
      },
      "source": [
        "featuresets = [(find_features(rev), category) for (rev, category) in documents]"
      ],
      "execution_count": null,
      "outputs": []
    },
    {
      "cell_type": "code",
      "metadata": {
        "id": "rBgvpyWTrLJ9"
      },
      "source": [
        "training_set=featuresets[:1900]\r\n",
        "testing_set=featuresets[1900:]"
      ],
      "execution_count": null,
      "outputs": []
    },
    {
      "cell_type": "code",
      "metadata": {
        "colab": {
          "base_uri": "https://localhost:8080/"
        },
        "id": "BJi2vWJ2sbKh",
        "outputId": "e82519a1-1f76-4e26-f8b0-0180127898e9"
      },
      "source": [
        "classifier = nltk.NaiveBayesClassifier.train(training_set)\r\n",
        "# classifier_f=open(\"naivebayes.pickle\",\"rb\")\r\n",
        "# classifier=pickle.load(classifier_f)\r\n",
        "# classifier_f.close\r\n",
        "print(\"Classifier accuracy percent:\",(nltk.classify.accuracy(classifier, testing_set))*100)\r\n"
      ],
      "execution_count": null,
      "outputs": [
        {
          "output_type": "stream",
          "text": [
            "Classifier accuracy percent: 79.0\n"
          ],
          "name": "stdout"
        }
      ]
    },
    {
      "cell_type": "code",
      "metadata": {
        "id": "wEj_IMVl5_Eo"
      },
      "source": [
        "classifier.show_most_informative_features(15)"
      ],
      "execution_count": null,
      "outputs": []
    },
    {
      "cell_type": "code",
      "metadata": {
        "id": "k9KOCIT-6_C_"
      },
      "source": [
        "import pickle\r\n",
        "import sklearn\r\n",
        "from sklearn.naive_bayes import MultinomialNB,GaussianNB,BernoulliNB\r\n",
        "from nltk.classify.scikitlearn import SklearnClassifier"
      ],
      "execution_count": null,
      "outputs": []
    },
    {
      "cell_type": "markdown",
      "metadata": {
        "id": "lZ5BuaV_jx0k"
      },
      "source": [
        ""
      ]
    },
    {
      "cell_type": "code",
      "metadata": {
        "id": "lSbx3IfU7X1P"
      },
      "source": [
        "save_classifier = open(\"naivebayes.pickle\",\"wb\")\r\n",
        "pickle.dump(classifier, save_classifier)\r\n",
        "save_classifier.close()"
      ],
      "execution_count": null,
      "outputs": []
    },
    {
      "cell_type": "code",
      "metadata": {
        "colab": {
          "base_uri": "https://localhost:8080/"
        },
        "id": "8QnbIZUf7e74",
        "outputId": "9f3f7796-4730-4527-a5b2-73f015d10b10"
      },
      "source": [
        "!ls"
      ],
      "execution_count": null,
      "outputs": [
        {
          "output_type": "stream",
          "text": [
            "naivebayes.pickle  sample_data\n"
          ],
          "name": "stdout"
        }
      ]
    },
    {
      "cell_type": "code",
      "metadata": {
        "id": "rQ7IDD747gKu"
      },
      "source": [
        ""
      ],
      "execution_count": null,
      "outputs": []
    },
    {
      "cell_type": "markdown",
      "metadata": {
        "id": "vUiYtyuSjz34"
      },
      "source": [
        "**sk learn**"
      ]
    },
    {
      "cell_type": "code",
      "metadata": {
        "id": "YW5HUlEgj2Mm"
      },
      "source": [
        "from nltk.classify.scikitlearn import SklearnClassifier"
      ],
      "execution_count": null,
      "outputs": []
    },
    {
      "cell_type": "code",
      "metadata": {
        "id": "L6aDIcXdj771"
      },
      "source": [
        "from sklearn.naive_bayes import MultinomialNB,BernoulliNB"
      ],
      "execution_count": null,
      "outputs": []
    },
    {
      "cell_type": "code",
      "metadata": {
        "colab": {
          "base_uri": "https://localhost:8080/"
        },
        "id": "cCY5aPEgkBca",
        "outputId": "2f8d3059-5ea3-4311-b120-70912b1f891b"
      },
      "source": [
        "MNB_classifier = SklearnClassifier(MultinomialNB())\r\n",
        "MNB_classifier.train(training_set)\r\n",
        "print(\"MultinomialNB accuracy percent:\",nltk.classify.accuracy(MNB_classifier, testing_set))\r\n",
        "\r\n",
        "BNB_classifier = SklearnClassifier(BernoulliNB())\r\n",
        "BNB_classifier.train(training_set)\r\n",
        "print(\"BernoulliNB accuracy percent:\",nltk.classify.accuracy(BNB_classifier, testing_set))"
      ],
      "execution_count": null,
      "outputs": [
        {
          "output_type": "stream",
          "text": [
            "MultinomialNB accuracy percent: 0.79\n",
            "BernoulliNB accuracy percent: 0.79\n"
          ],
          "name": "stdout"
        }
      ]
    },
    {
      "cell_type": "code",
      "metadata": {
        "colab": {
          "base_uri": "https://localhost:8080/"
        },
        "id": "4CtDoJwTlmW0",
        "outputId": "ae07557c-199d-4f78-a564-4552b348ce36"
      },
      "source": [
        "from sklearn.linear_model import LogisticRegression,SGDClassifier\r\n",
        "from sklearn.svm import SVC, LinearSVC, NuSVC\r\n",
        "print(\"Original Naive Bayes Algo accuracy percent:\", (nltk.classify.accuracy(classifier, testing_set))*100)\r\n",
        "classifier.show_most_informative_features(15)\r\n",
        "\r\n",
        "MNB_classifier = SklearnClassifier(MultinomialNB())\r\n",
        "MNB_classifier.train(training_set)\r\n",
        "print(\"MNB_classifier accuracy percent:\", (nltk.classify.accuracy(MNB_classifier, testing_set))*100)\r\n",
        "\r\n",
        "BernoulliNB_classifier = SklearnClassifier(BernoulliNB())\r\n",
        "BernoulliNB_classifier.train(training_set)\r\n",
        "print(\"BernoulliNB_classifier accuracy percent:\", (nltk.classify.accuracy(BernoulliNB_classifier, testing_set))*100)\r\n",
        "\r\n",
        "LogisticRegression_classifier = SklearnClassifier(LogisticRegression())\r\n",
        "LogisticRegression_classifier.train(training_set)\r\n",
        "print(\"LogisticRegression_classifier accuracy percent:\", (nltk.classify.accuracy(LogisticRegression_classifier, testing_set))*100)\r\n",
        "\r\n",
        "SGDClassifier_classifier = SklearnClassifier(SGDClassifier())\r\n",
        "SGDClassifier_classifier.train(training_set)\r\n",
        "print(\"SGDClassifier_classifier accuracy percent:\", (nltk.classify.accuracy(SGDClassifier_classifier, testing_set))*100)\r\n",
        "\r\n",
        "SVC_classifier = SklearnClassifier(SVC())\r\n",
        "SVC_classifier.train(training_set)\r\n",
        "print(\"SVC_classifier accuracy percent:\", (nltk.classify.accuracy(SVC_classifier, testing_set))*100)\r\n",
        "\r\n",
        "LinearSVC_classifier = SklearnClassifier(LinearSVC())\r\n",
        "LinearSVC_classifier.train(training_set)\r\n",
        "print(\"LinearSVC_classifier accuracy percent:\", (nltk.classify.accuracy(LinearSVC_classifier, testing_set))*100)\r\n",
        "\r\n",
        "NuSVC_classifier = SklearnClassifier(NuSVC())\r\n",
        "NuSVC_classifier.train(training_set)\r\n",
        "print(\"NuSVC_classifier accuracy percent:\", (nltk.classify.accuracy(NuSVC_classifier, testing_set))*100)"
      ],
      "execution_count": null,
      "outputs": [
        {
          "output_type": "stream",
          "text": [
            "Original Naive Bayes Algo accuracy percent: 79.0\n",
            "Most Informative Features\n",
            "                   sucks = True              neg : pos    =     10.6 : 1.0\n",
            "                  annual = True              pos : neg    =      9.7 : 1.0\n",
            "                     ugh = True              neg : pos    =      9.0 : 1.0\n",
            "                  turkey = True              neg : pos    =      8.7 : 1.0\n",
            "                 frances = True              pos : neg    =      8.4 : 1.0\n",
            "             silverstone = True              neg : pos    =      7.7 : 1.0\n",
            "                 idiotic = True              neg : pos    =      7.4 : 1.0\n",
            "                  regard = True              pos : neg    =      7.0 : 1.0\n",
            "                  suvari = True              neg : pos    =      7.0 : 1.0\n",
            "                  shoddy = True              neg : pos    =      7.0 : 1.0\n",
            "                    mena = True              neg : pos    =      7.0 : 1.0\n",
            "           unimaginative = True              neg : pos    =      7.0 : 1.0\n",
            "                  wasted = True              neg : pos    =      6.9 : 1.0\n",
            "               atrocious = True              neg : pos    =      6.6 : 1.0\n",
            "              schumacher = True              neg : pos    =      6.6 : 1.0\n",
            "MNB_classifier accuracy percent: 79.0\n",
            "BernoulliNB_classifier accuracy percent: 79.0\n"
          ],
          "name": "stdout"
        },
        {
          "output_type": "stream",
          "text": [
            "/usr/local/lib/python3.6/dist-packages/sklearn/linear_model/_logistic.py:940: ConvergenceWarning: lbfgs failed to converge (status=1):\n",
            "STOP: TOTAL NO. of ITERATIONS REACHED LIMIT.\n",
            "\n",
            "Increase the number of iterations (max_iter) or scale the data as shown in:\n",
            "    https://scikit-learn.org/stable/modules/preprocessing.html\n",
            "Please also refer to the documentation for alternative solver options:\n",
            "    https://scikit-learn.org/stable/modules/linear_model.html#logistic-regression\n",
            "  extra_warning_msg=_LOGISTIC_SOLVER_CONVERGENCE_MSG)\n"
          ],
          "name": "stderr"
        },
        {
          "output_type": "stream",
          "text": [
            "LogisticRegression_classifier accuracy percent: 79.0\n",
            "SGDClassifier_classifier accuracy percent: 76.0\n",
            "SVC_classifier accuracy percent: 82.0\n",
            "LinearSVC_classifier accuracy percent: 76.0\n",
            "NuSVC_classifier accuracy percent: 81.0\n"
          ],
          "name": "stdout"
        }
      ]
    },
    {
      "cell_type": "code",
      "metadata": {
        "id": "o5MfpZosoLwG"
      },
      "source": [
        ""
      ],
      "execution_count": null,
      "outputs": []
    }
  ]
}